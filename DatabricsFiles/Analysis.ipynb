{
 "cells": [
  {
   "cell_type": "code",
   "execution_count": 0,
   "metadata": {
    "application/vnd.databricks.v1+cell": {
     "cellMetadata": {
      "byteLimit": 2048000,
      "rowLimit": 10000
     },
     "inputWidgets": {},
     "nuid": "1b0e3910-ba06-4adb-b5d3-98fcc39f375f",
     "showTitle": false,
     "tableResultSettingsMap": {},
     "title": ""
    }
   },
   "outputs": [
    {
     "output_type": "stream",
     "name": "stdout",
     "output_type": "stream",
     "text": [
      "Collecting nutter\n  Obtaining dependency information for nutter from https://files.pythonhosted.org/packages/33/18/b73b699a249a6ddbd53f80ff5293c08f4e4357f835a6a0682e7f6f1a54c8/nutter-0.1.35-py3-none-any.whl.metadata\n  Using cached nutter-0.1.35-py3-none-any.whl.metadata (636 bytes)\nCollecting databricks-api (from nutter)\n  Obtaining dependency information for databricks-api from https://files.pythonhosted.org/packages/d0/cc/6c3f9cd8b2b6c7a45c95b94d334bc51f1579d875bbfac0ecb8accdb2f756/databricks_api-0.9.0-py3-none-any.whl.metadata\n  Using cached databricks_api-0.9.0-py3-none-any.whl.metadata (17 kB)\nRequirement already satisfied: requests in /databricks/python3/lib/python3.11/site-packages (from nutter) (2.31.0)\nCollecting fire (from nutter)\n  Using cached fire-0.7.0-py3-none-any.whl\nCollecting junit-xml (from nutter)\n  Obtaining dependency information for junit-xml from https://files.pythonhosted.org/packages/2a/93/2d896b5fd3d79b4cadd8882c06650e66d003f465c9d12c488d92853dff78/junit_xml-1.9-py2.py3-none-any.whl.metadata\n  Using cached junit_xml-1.9-py2.py3-none-any.whl.metadata (3.2 kB)\nCollecting py4j (from nutter)\n  Obtaining dependency information for py4j from https://files.pythonhosted.org/packages/53/75/15967ccc1a9bb2c85364a4eceb64116fbf8734528315338f16efd4191f35/py4j-0.10.9.8-py2.py3-none-any.whl.metadata\n  Using cached py4j-0.10.9.8-py2.py3-none-any.whl.metadata (1.3 kB)\nCollecting databricks-cli (from databricks-api->nutter)\n  Obtaining dependency information for databricks-cli from https://files.pythonhosted.org/packages/ae/a3/d56f8382c40899301f327d1c881278b09c9b8bc301c2c111633a0346d06e/databricks_cli-0.18.0-py2.py3-none-any.whl.metadata\n  Using cached databricks_cli-0.18.0-py2.py3-none-any.whl.metadata (4.0 kB)\nCollecting termcolor (from fire->nutter)\n  Obtaining dependency information for termcolor from https://files.pythonhosted.org/packages/7f/be/df630c387a0a054815d60be6a97eb4e8f17385d5d6fe660e1c02750062b4/termcolor-2.5.0-py3-none-any.whl.metadata\n  Using cached termcolor-2.5.0-py3-none-any.whl.metadata (6.1 kB)\nRequirement already satisfied: six in /usr/lib/python3/dist-packages (from junit-xml->nutter) (1.16.0)\nRequirement already satisfied: charset-normalizer<4,>=2 in /databricks/python3/lib/python3.11/site-packages (from requests->nutter) (2.0.4)\nRequirement already satisfied: idna<4,>=2.5 in /databricks/python3/lib/python3.11/site-packages (from requests->nutter) (3.4)\nRequirement already satisfied: urllib3<3,>=1.21.1 in /databricks/python3/lib/python3.11/site-packages (from requests->nutter) (1.26.16)\nRequirement already satisfied: certifi>=2017.4.17 in /databricks/python3/lib/python3.11/site-packages (from requests->nutter) (2023.7.22)\nRequirement already satisfied: click>=7.0 in /databricks/python3/lib/python3.11/site-packages (from databricks-cli->databricks-api->nutter) (8.0.4)\nRequirement already satisfied: pyjwt>=1.7.0 in /usr/lib/python3/dist-packages (from databricks-cli->databricks-api->nutter) (2.3.0)\nRequirement already satisfied: oauthlib>=3.1.0 in /usr/lib/python3/dist-packages (from databricks-cli->databricks-api->nutter) (3.2.0)\nCollecting tabulate>=0.7.7 (from databricks-cli->databricks-api->nutter)\n  Obtaining dependency information for tabulate>=0.7.7 from https://files.pythonhosted.org/packages/40/44/4a5f08c96eb108af5cb50b41f76142f0afa346dfa99d5296fe7202a11854/tabulate-0.9.0-py3-none-any.whl.metadata\n  Using cached tabulate-0.9.0-py3-none-any.whl.metadata (34 kB)\nUsing cached nutter-0.1.35-py3-none-any.whl (54 kB)\nUsing cached databricks_api-0.9.0-py3-none-any.whl (7.4 kB)\nUsing cached junit_xml-1.9-py2.py3-none-any.whl (7.1 kB)\nUsing cached py4j-0.10.9.8-py2.py3-none-any.whl (202 kB)\nUsing cached databricks_cli-0.18.0-py2.py3-none-any.whl (150 kB)\nUsing cached termcolor-2.5.0-py3-none-any.whl (7.8 kB)\nUsing cached tabulate-0.9.0-py3-none-any.whl (35 kB)\nInstalling collected packages: py4j, termcolor, tabulate, junit-xml, fire, databricks-cli, databricks-api, nutter\nSuccessfully installed databricks-api-0.9.0 databricks-cli-0.18.0 fire-0.7.0 junit-xml-1.9 nutter-0.1.35 py4j-0.10.9.8 tabulate-0.9.0 termcolor-2.5.0\n\u001B[43mNote: you may need to restart the kernel using %restart_python or dbutils.library.restartPython() to use updated packages.\u001B[0m\n"
     ]
    }
   ],
   "source": [
    "%pip install nutter"
   ]
  },
  {
   "cell_type": "code",
   "execution_count": 0,
   "metadata": {
    "application/vnd.databricks.v1+cell": {
     "cellMetadata": {
      "byteLimit": 2048000,
      "rowLimit": 10000
     },
     "inputWidgets": {},
     "nuid": "81fa18b1-055c-4bcc-aace-917e33ed5e87",
     "showTitle": false,
     "tableResultSettingsMap": {},
     "title": ""
    }
   },
   "outputs": [],
   "source": [
    "dbutils.library.restartPython()"
   ]
  },
  {
   "cell_type": "code",
   "execution_count": 0,
   "metadata": {
    "application/vnd.databricks.v1+cell": {
     "cellMetadata": {
      "byteLimit": 2048000,
      "rowLimit": 10000
     },
     "inputWidgets": {},
     "nuid": "2a0a279c-0375-4500-afc8-d0f12da8a8e0",
     "showTitle": false,
     "tableResultSettingsMap": {},
     "title": ""
    }
   },
   "outputs": [],
   "source": [
    "import logging\n",
    "import time\n",
    "import functools\n",
    "from typing import List\n",
    "from pyspark.sql import DataFrame\n",
    "from pyspark.sql.functions import (\n",
    "    current_timestamp, to_date, date_format, col, \n",
    "    trim, encode, lit, regexp_replace, when\n",
    ")\n",
    "from pyspark.sql.types import StringType, VarcharType\n",
    "from pyspark.ml import Pipeline\n",
    "from pyspark.ml.base import Transformer\n",
    "from pyspark.ml.param.shared import HasInputCols, HasOutputCols\n",
    "from pyspark.ml.util import DefaultParamsReadable, DefaultParamsWritable"
   ]
  },
  {
   "cell_type": "code",
   "execution_count": 0,
   "metadata": {
    "application/vnd.databricks.v1+cell": {
     "cellMetadata": {
      "byteLimit": 2048000,
      "rowLimit": 10000
     },
     "inputWidgets": {},
     "nuid": "b829ea0d-7f64-4a8d-9dde-1089c1a4933e",
     "showTitle": false,
     "tableResultSettingsMap": {},
     "title": ""
    }
   },
   "outputs": [],
   "source": [
    "# Basic logging configuration\n",
    "logging.basicConfig(\n",
    "    level=logging.INFO,\n",
    "    format='%(asctime)s - %(levelname)s - %(message)s'\n",
    ")"
   ]
  },
  {
   "cell_type": "code",
   "execution_count": 0,
   "metadata": {
    "application/vnd.databricks.v1+cell": {
     "cellMetadata": {
      "byteLimit": 2048000,
      "rowLimit": 10000
     },
     "inputWidgets": {},
     "nuid": "39979a71-61c6-4f68-b977-638450bf9c6d",
     "showTitle": false,
     "tableResultSettingsMap": {},
     "title": ""
    }
   },
   "outputs": [],
   "source": [
    "def timer_logger(func):\n",
    "    \"\"\"Simple decorator to log function execution time\"\"\"\n",
    "    @functools.wraps(func)\n",
    "    def wrapper(*args, **kwargs):\n",
    "        start_time = time.time()\n",
    "        logging.info(f\"Starting {func.__name__}\")\n",
    "        result = func(*args, **kwargs)\n",
    "        end_time = time.time()\n",
    "        execution_time = end_time - start_time\n",
    "        logging.info(f\"Finished {func.__name__} in {execution_time:.2f} seconds\")\n",
    "        return result\n",
    "    return wrapper"
   ]
  },
  {
   "cell_type": "markdown",
   "metadata": {
    "application/vnd.databricks.v1+cell": {
     "cellMetadata": {},
     "inputWidgets": {},
     "nuid": "c86fbd96-4fa7-4ec0-971f-0fc2bb620f00",
     "showTitle": false,
     "tableResultSettingsMap": {},
     "title": ""
    }
   },
   "source": [
    "## Unit testing"
   ]
  },
  {
   "cell_type": "markdown",
   "metadata": {
    "application/vnd.databricks.v1+cell": {
     "cellMetadata": {},
     "inputWidgets": {},
     "nuid": "4c5af4f6-7a26-4545-8f97-cb0ebab0792a",
     "showTitle": false,
     "tableResultSettingsMap": {},
     "title": ""
    }
   },
   "source": [
    "**Ensuring :**\n",
    "\n",
    "**No Nulls in data**\n",
    "\n",
    "**Price consistency (Ex: highprice>lowprice)**\n",
    "\n",
    "**Schema Validation**\n",
    "\n",
    "**All measurements are positive**\n",
    "\n",
    "**Time values are in correct format (HH:MM:SS)**\n",
    "\n",
    "**row_count > 100000**"
   ]
  },
  {
   "cell_type": "code",
   "execution_count": 0,
   "metadata": {
    "application/vnd.databricks.v1+cell": {
     "cellMetadata": {
      "byteLimit": 2048000,
      "rowLimit": 10000
     },
     "inputWidgets": {},
     "nuid": "f39938b4-85f3-458f-bb0d-dfa204d0f4d9",
     "showTitle": false,
     "tableResultSettingsMap": {},
     "title": ""
    }
   },
   "outputs": [
    {
     "output_type": "stream",
     "name": "stderr",
     "output_type": "stream",
     "text": [
      "2024-12-19 23:30:25,318 - INFO - Received command c on object id p0\n"
     ]
    }
   ],
   "source": [
    "from runtime.nutterfixture import NutterFixture\n",
    "from pyspark.sql.functions import col, sum, lit\n",
    "from pyspark.sql.types import TimestampType, DoubleType, IntegerType, StringType, DateType\n",
    "\n",
    "class UnitTestingStockData(NutterFixture):\n",
    "    def __init__(self):\n",
    "        super().__init__()\n",
    "        # Load DataFrame from silver table in our database\n",
    "        self.df = spark.read.format(\"delta\").load(\"dbfs:/user/hive/warehouse/bd_finals.db/stocks/silver/stocks_silver\")\n",
    "\n",
    "    @timer_logger\n",
    "    def assertion_row_count(self):\n",
    "        \"\"\"Test that the dataset has rows\"\"\"\n",
    "        row_count = self.df.count()\n",
    "        assert row_count > 100000, f\"Expected at least 100000 row, but got {row_count}\"\n",
    "    \n",
    "    @timer_logger\n",
    "    def assertion_no_nulls(self):\n",
    "        \"\"\"Test that there are no null values in any column\"\"\"\n",
    "        # Get count of nulls for each column\n",
    "        null_counts = self.df.select([\n",
    "            sum(col(c).isNull().cast(\"int\")).alias(c) \n",
    "            for c in self.df.columns\n",
    "        ]).first()\n",
    "        \n",
    "        # Check each column for nulls\n",
    "        for column in self.df.columns:\n",
    "            null_count = null_counts[column]\n",
    "            assert null_count == 0, f\"Found {null_count} null values in column {column}\"\n",
    "\n",
    "    def assertion_schema_validation(self):\n",
    "        \"\"\"Test for presence and data types of required columns\"\"\"\n",
    "        expected_columns = {\n",
    "            \"date\": DateType(),\n",
    "            \"time\": StringType(),\n",
    "            \"company\": StringType(),\n",
    "            \"open_price\": DoubleType(),\n",
    "            \"high_price\": DoubleType(),\n",
    "            \"low_price\": DoubleType(),\n",
    "            \"close_price\": DoubleType(),\n",
    "            \"volume\": DoubleType(),\n",
    "            \"number_of_trades\": IntegerType()\n",
    "        }\n",
    "        \n",
    "        for col_name, col_type in expected_columns.items():\n",
    "            assert col_name in self.df.columns, f\"Column {col_name} is missing\"\n",
    "            actual_type = self.df.schema[col_name].dataType\n",
    "            assert isinstance(actual_type, type(col_type)), \\\n",
    "                f\"Column {col_name} has incorrect type. Expected {col_type}, got {actual_type}\"\n",
    "    @timer_logger\n",
    "    def assertion_price_consistency(self):\n",
    "        \"\"\"Test price relationships (high >= open/close >= low)\"\"\"\n",
    "        inconsistent_prices = self.df.filter(\n",
    "            (col(\"high_price\") < col(\"low_price\")) |\n",
    "            (col(\"high_price\") < col(\"open_price\")) |\n",
    "            (col(\"high_price\") < col(\"close_price\")) |\n",
    "            (col(\"low_price\") > col(\"open_price\")) |\n",
    "            (col(\"low_price\") > col(\"close_price\"))\n",
    "        ).count()\n",
    "        \n",
    "        assert inconsistent_prices == 0, \\\n",
    "            f\"Found {inconsistent_prices} rows with inconsistent price relationships\"\n",
    "    @timer_logger\n",
    "    def assertion_positive_values(self):\n",
    "        \"\"\"Test that volume, number_of_trades, and prices are positive\"\"\"\n",
    "        negative_values = self.df.filter(\n",
    "            (col(\"volume\") <= 0) |\n",
    "            (col(\"number_of_trades\") <= 0) |\n",
    "            (col(\"open_price\") <= 0) |\n",
    "            (col(\"high_price\") <= 0) |\n",
    "            (col(\"low_price\") <= 0) |\n",
    "            (col(\"close_price\") <= 0)\n",
    "        ).count()\n",
    "        \n",
    "        assert negative_values == 0, \\\n",
    "            f\"Found {negative_values} rows with negative or zero values\"\n",
    "    @timer_logger\n",
    "    def assertion_time_format(self):\n",
    "        \"\"\"Test that time values are in correct format (HH:MM:SS)\"\"\"\n",
    "        # Convert time string to timestamp to validate format\n",
    "        time_format_errors = self.df.filter(\n",
    "            ~col(\"time\").rlike(\"^([0-1][0-9]|2[0-3]):[0-5][0-9]:[0-5][0-9]$\")\n",
    "        ).count()\n",
    "        \n",
    "        assert time_format_errors == 0, \\\n",
    "            f\"Found {time_format_errors} rows with invalid time format\"\n"
   ]
  },
  {
   "cell_type": "code",
   "execution_count": 0,
   "metadata": {
    "application/vnd.databricks.v1+cell": {
     "cellMetadata": {
      "byteLimit": 2048000,
      "rowLimit": 10000
     },
     "inputWidgets": {},
     "nuid": "83dbbe79-4935-41e1-9a9d-7f833fc33426",
     "showTitle": false,
     "tableResultSettingsMap": {},
     "title": ""
    }
   },
   "outputs": [
    {
     "output_type": "stream",
     "name": "stderr",
     "output_type": "stream",
     "text": [
      "2024-12-19 23:30:30,639 - INFO - Starting assertion_no_nulls\n2024-12-19 23:30:36,088 - INFO - Finished assertion_no_nulls in 5.45 seconds\n2024-12-19 23:30:36,088 - INFO - Starting assertion_positive_values\n2024-12-19 23:30:36,758 - INFO - Finished assertion_positive_values in 0.67 seconds\n2024-12-19 23:30:36,759 - INFO - Starting assertion_price_consistency\n2024-12-19 23:30:39,843 - INFO - Finished assertion_price_consistency in 3.08 seconds\n2024-12-19 23:30:39,845 - INFO - Starting assertion_row_count\n2024-12-19 23:30:41,083 - INFO - Finished assertion_row_count in 1.24 seconds\n2024-12-19 23:30:41,084 - INFO - Starting assertion_time_format\n2024-12-19 23:30:44,468 - INFO - Finished assertion_time_format in 3.38 seconds\n"
     ]
    },
    {
     "output_type": "stream",
     "name": "stdout",
     "output_type": "stream",
     "text": [
      "\nNotebook: N/A - Lifecycle State: N/A, Result: N/A\nRun Page URL: N/A\n============================================================\nPASSING TESTS\n------------------------------------------------------------\nno_nulls (5.448992083998746 seconds)\npositive_values (0.6706039860000601 seconds)\nprice_consistency (3.085743506999279 seconds)\nrow_count (1.2388307400033227 seconds)\nschema_validation (7.695199747104198e-05 seconds)\ntime_format (3.3856531649944372 seconds)\n\n\n============================================================\n\n"
     ]
    }
   ],
   "source": [
    "# Execute the test fixture\n",
    "result = UnitTestingStockData().execute_tests()\n",
    "print(result.to_string())"
   ]
  },
  {
   "cell_type": "markdown",
   "metadata": {
    "application/vnd.databricks.v1+cell": {
     "cellMetadata": {},
     "inputWidgets": {},
     "nuid": "c92833d0-55f8-4edf-b323-114b6624b255",
     "showTitle": false,
     "tableResultSettingsMap": {},
     "title": ""
    }
   },
   "source": [
    "## Gold Tables & Analysis"
   ]
  },
  {
   "cell_type": "code",
   "execution_count": 0,
   "metadata": {
    "application/vnd.databricks.v1+cell": {
     "cellMetadata": {
      "byteLimit": 2048000,
      "rowLimit": 10000
     },
     "inputWidgets": {},
     "nuid": "a5d26e24-b0ca-4b75-8742-25a70616cdc8",
     "showTitle": false,
     "tableResultSettingsMap": {},
     "title": ""
    }
   },
   "outputs": [
    {
     "output_type": "stream",
     "name": "stderr",
     "output_type": "stream",
     "text": [
      "2024-12-19 20:33:27,608 - INFO - Received command c on object id p0\n"
     ]
    }
   ],
   "source": [
    "from pyspark.sql import SparkSession\n",
    "from pyspark.sql.functions import *\n",
    "from pyspark.sql.window import Window\n",
    "from pyspark.ml.feature import VectorAssembler\n",
    "from pyspark.ml.regression import LinearRegression\n",
    "import matplotlib.pyplot as plt\n",
    "import pandas as pd\n",
    "import seaborn as sns"
   ]
  },
  {
   "cell_type": "code",
   "execution_count": 0,
   "metadata": {
    "application/vnd.databricks.v1+cell": {
     "cellMetadata": {
      "byteLimit": 2048000,
      "rowLimit": 10000
     },
     "inputWidgets": {},
     "nuid": "8277f6f0-56ae-4f46-99af-5c55fddbec18",
     "showTitle": false,
     "tableResultSettingsMap": {},
     "title": ""
    }
   },
   "outputs": [
    {
     "output_type": "stream",
     "name": "stderr",
     "output_type": "stream",
     "text": [
      "2024-12-19 19:52:11,101 - INFO - Received command c on object id p0\n"
     ]
    }
   ],
   "source": [
    "df1 = (\n",
    "    spark.read.format(\"delta\")\n",
    "    .option(\"header\", True)\n",
    "    .option(\"inferSchema\", True)\n",
    "    .load(\"dbfs:/user/hive/warehouse/bd_finals.db/stocks/silver/stocks_silver\")\n",
    ")"
   ]
  },
  {
   "cell_type": "markdown",
   "metadata": {
    "application/vnd.databricks.v1+cell": {
     "cellMetadata": {},
     "inputWidgets": {},
     "nuid": "7e2574d7-3919-49e1-9a3e-21612bf38313",
     "showTitle": false,
     "tableResultSettingsMap": {},
     "title": ""
    }
   },
   "source": [
    "## Apple Stock Prediction Over the years"
   ]
  },
  {
   "cell_type": "markdown",
   "metadata": {
    "application/vnd.databricks.v1+cell": {
     "cellMetadata": {},
     "inputWidgets": {},
     "nuid": "50834dd0-46e2-4ea4-826f-f35adca57f62",
     "showTitle": false,
     "tableResultSettingsMap": {},
     "title": ""
    }
   },
   "source": [
    "provides insights into Apple's stock performance trends over time and generates predictions for future years based on historical data."
   ]
  },
  {
   "cell_type": "code",
   "execution_count": 0,
   "metadata": {
    "application/vnd.databricks.v1+cell": {
     "cellMetadata": {
      "byteLimit": 2048000,
      "rowLimit": 10000
     },
     "inputWidgets": {},
     "nuid": "e5392b49-16a6-4361-97ca-22e6197351d8",
     "showTitle": false,
     "tableResultSettingsMap": {},
     "title": ""
    }
   },
   "outputs": [],
   "source": [
    "def predict_apple_stock(df1):\n",
    "    # Filter only Apple data and create yearly aggregation\n",
    "    apple_yearly = (\n",
    "        df1.filter(col(\"company\") == \"AAPL\")\n",
    "        .withColumn(\"year\", year(to_date(col(\"date\"))))\n",
    "        .groupBy(\"year\")\n",
    "        .agg(\n",
    "            avg(\"close_price\").alias(\"avg_price\"),\n",
    "            avg(\"volume\").alias(\"avg_volume\"),\n",
    "            count(\"*\").alias(\"data_points\"),\n",
    "        )\n",
    "        .orderBy(\"year\")\n",
    "    )\n",
    "    # Creating time index for prediction\n",
    "    window_spec = Window.orderBy(\"year\")\n",
    "    apple_data = apple_yearly.withColumn(\"time_index\", row_number().over(window_spec))\n",
    "\n",
    "    # Preparing features\n",
    "    assembler = VectorAssembler(inputCols=[\"time_index\"], outputCol=\"features\")\n",
    "    data = assembler.transform(apple_data)\n",
    "\n",
    "    # Training Linear Regression model\n",
    "    lr = LinearRegression(featuresCol=\"features\", labelCol=\"avg_price\")\n",
    "    model = lr.fit(data)\n",
    "\n",
    "    # Making predictions\n",
    "    predictions = model.transform(data)\n",
    "\n",
    "    # Print performance metrics\n",
    "    print(\"\\nApple Stock Prediction Metrics:\")\n",
    "    print(f\"R² Score: {model.summary.r2:.4f}\")\n",
    "    print(f\"Root Mean Squared Error: ${model.summary.rootMeanSquaredError:.2f}\")\n",
    "\n",
    "    # Display yearly predictions with year-over-year change\n",
    "    result = predictions.select(\n",
    "        \"year\",\n",
    "        round(\"avg_price\", 2).alias(\"actual_price\"),\n",
    "        round(\"prediction\", 2).alias(\"predicted_price\"),\n",
    "    )\n",
    "    # Add year-over-year price change\n",
    "    result = result.withColumn(\n",
    "        \"yoy_change\",\n",
    "        round(\n",
    "            (\n",
    "                (col(\"actual_price\") - lag(\"actual_price\").over(window_spec))\n",
    "                / lag(\"actual_price\").over(window_spec)\n",
    "                * 100\n",
    "            ),\n",
    "            2,\n",
    "        ),\n",
    "    )\n",
    "    print(\"\\nApple Yearly Stock Analysis:\")\n",
    "    result.display()\n",
    "    return result"
   ]
  },
  {
   "cell_type": "code",
   "execution_count": 0,
   "metadata": {
    "application/vnd.databricks.v1+cell": {
     "cellMetadata": {
      "byteLimit": 2048000,
      "rowLimit": 10000
     },
     "inputWidgets": {},
     "nuid": "1950e1bf-4cb1-43d1-8c39-e1fc22dc3b3f",
     "showTitle": false,
     "tableResultSettingsMap": {},
     "title": ""
    }
   },
   "outputs": [
    {
     "output_type": "stream",
     "name": "stderr",
     "output_type": "stream",
     "text": [
      "2024-12-19 21:37:09,823 - INFO - Received command c on object id p0\n"
     ]
    },
    {
     "output_type": "stream",
     "name": "stdout",
     "output_type": "stream",
     "text": [
      "\nApple Stock Prediction Metrics:\nR² Score: 0.9963\nRoot Mean Squared Error: $1.78\n\nApple Yearly Stock Analysis:\n"
     ]
    },
    {
     "output_type": "display_data",
     "data": {
      "text/html": [
       "<style scoped>\n",
       "  .table-result-container {\n",
       "    max-height: 300px;\n",
       "    overflow: auto;\n",
       "  }\n",
       "  table, th, td {\n",
       "    border: 1px solid black;\n",
       "    border-collapse: collapse;\n",
       "  }\n",
       "  th, td {\n",
       "    padding: 5px;\n",
       "  }\n",
       "  th {\n",
       "    text-align: left;\n",
       "  }\n",
       "</style><div class='table-result-container'><table class='table-result'><thead style='background-color: white'><tr><th>year</th><th>actual_price</th><th>predicted_price</th><th>yoy_change</th></tr></thead><tbody><tr><td>2022</td><td>132.23</td><td>133.49</td><td>null</td></tr><tr><td>2023</td><td>171.83</td><td>169.31</td><td>29.95</td></tr><tr><td>2024</td><td>203.88</td><td>205.14</td><td>18.65</td></tr></tbody></table></div>"
      ]
     },
     "metadata": {
      "application/vnd.databricks.v1+output": {
       "addedWidgets": {},
       "aggData": [],
       "aggError": "",
       "aggOverflow": false,
       "aggSchema": [],
       "aggSeriesLimitReached": false,
       "aggType": "",
       "arguments": {},
       "columnCustomDisplayInfos": {},
       "data": [
        [
         2022,
         132.23,
         133.49,
         null
        ],
        [
         2023,
         171.83,
         169.31,
         29.95
        ],
        [
         2024,
         203.88,
         205.14,
         18.65
        ]
       ],
       "datasetInfos": [],
       "dbfsResultPath": null,
       "isJsonSchema": true,
       "metadata": {},
       "overflow": false,
       "plotOptions": {
        "customPlotOptions": {},
        "displayType": "table",
        "pivotAggregation": null,
        "pivotColumns": null,
        "xColumns": null,
        "yColumns": null
       },
       "removedWidgets": [],
       "schema": [
        {
         "metadata": "{}",
         "name": "year",
         "type": "\"integer\""
        },
        {
         "metadata": "{}",
         "name": "actual_price",
         "type": "\"double\""
        },
        {
         "metadata": "{}",
         "name": "predicted_price",
         "type": "\"double\""
        },
        {
         "metadata": "{}",
         "name": "yoy_change",
         "type": "\"double\""
        }
       ],
       "type": "table"
      }
     },
     "output_type": "display_data"
    },
    {
     "output_type": "display_data",
     "data": {
      "text/plain": [
       "Databricks visualization. Run in Databricks to view."
      ]
     },
     "metadata": {
      "application/vnd.databricks.v1.subcommand+json": {
       "baseErrorDetails": null,
       "bindings": {},
       "collapsed": false,
       "command": "%python\n__backend_agg_display_orig = display\n__backend_agg_dfs = []\ndef __backend_agg_display_new(df):\n    __backend_agg_df_modules = [\"pandas.core.frame\", \"databricks.koalas.frame\", \"pyspark.sql.dataframe\", \"pyspark.pandas.frame\", \"pyspark.sql.connect.dataframe\"]\n    if (type(df).__module__ in __backend_agg_df_modules and type(df).__name__ == 'DataFrame') or isinstance(df, list):\n        __backend_agg_dfs.append(df)\n\ndisplay = __backend_agg_display_new\n\ndef __backend_agg_user_code_fn():\n    import base64\n    exec(base64.standard_b64decode(\"I3NhdmluZyB0aGUgdGFibGUgaW4gZ29sZCBmb2xkZXIKdDE9cHJlZGljdF9hcHBsZV9zdG9jayhkZjEpCnQxLmNvYWxlc2NlKDEpLndyaXRlLm1vZGUoJ292ZXJ3cml0ZScpIFwKICAgIC5vcHRpb24oJ2hlYWRlcicsICd0cnVlJykgXAogICAgLmNzdigiZGJmczovdXNlci9oaXZlL3dhcmVob3VzZS9iZF9maW5hbHMuZGIvc3RvY2tzL2dvbGQvYXBwbGVfc3RvY2tfcHJlZGljdGlvbnMuY3N2Iik=\").decode())\n\ntry:\n    # run user code\n    __backend_agg_user_code_fn()\n\n    #reset display function\n    display = __backend_agg_display_orig\n\n    if len(__backend_agg_dfs) > 0:\n        # create a temp view\n        if type(__backend_agg_dfs[0]).__module__ == \"databricks.koalas.frame\":\n            # koalas dataframe\n            __backend_agg_dfs[0].to_spark().createOrReplaceTempView(\"DatabricksViewaaeb931\")\n        elif type(__backend_agg_dfs[0]).__module__ == \"pandas.core.frame\" or isinstance(__backend_agg_dfs[0], list):\n            # pandas dataframe\n            spark.createDataFrame(__backend_agg_dfs[0]).createOrReplaceTempView(\"DatabricksViewaaeb931\")\n        else:\n            __backend_agg_dfs[0].createOrReplaceTempView(\"DatabricksViewaaeb931\")\n        #run backend agg\n        display(spark.sql(\"\"\"WITH q AS (select * from DatabricksViewaaeb931) SELECT `year`,SUM(`actual_price`) `column_ab592cf780`,SUM(`predicted_price`) `column_ab592cf783` FROM q GROUP BY `year`\"\"\"))\n    else:\n        displayHTML(\"dataframe no longer exists. If you're using dataframe.display(), use display(dataframe) instead.\")\n\n\nfinally:\n    spark.sql(\"drop view if exists DatabricksViewaaeb931\")\n    display = __backend_agg_display_orig\n    del __backend_agg_display_new\n    del __backend_agg_display_orig\n    del __backend_agg_dfs\n    del __backend_agg_user_code_fn\n\n",
       "commandTitle": "Visualization 1",
       "commandType": "auto",
       "commandVersion": 0,
       "commentThread": [],
       "commentsVisible": false,
       "contentSha256Hex": null,
       "customPlotOptions": {
        "redashChart": [
         {
          "key": "type",
          "value": "CHART"
         },
         {
          "key": "options",
          "value": {
           "alignYAxesAtZero": true,
           "coefficient": 1,
           "columnConfigurationMap": {
            "x": {
             "column": "year",
             "id": "column_ab592cf781"
            },
            "y": [
             {
              "column": "actual_price",
              "id": "column_ab592cf780",
              "transform": "SUM"
             },
             {
              "column": "predicted_price",
              "id": "column_ab592cf783",
              "transform": "SUM"
             }
            ]
           },
           "dateTimeFormat": "DD/MM/YYYY HH:mm",
           "direction": {
            "type": "counterclockwise"
           },
           "error_y": {
            "type": "data",
            "visible": true
           },
           "globalSeriesType": "line",
           "isAggregationOn": true,
           "legend": {
            "traceorder": "normal"
           },
           "missingValuesAsZero": true,
           "numberFormat": "0,0.[00000]",
           "percentFormat": "0[.]00%",
           "series": {
            "error_y": {
             "type": "data",
             "visible": true
            },
            "stacking": null
           },
           "seriesOptions": {
            "column_ab592cf780": {
             "type": "line",
             "yAxis": 0
            },
            "column_ab592cf783": {
             "type": "line",
             "yAxis": 0
            }
           },
           "showDataLabels": false,
           "sizemode": "diameter",
           "sortX": true,
           "sortY": true,
           "swappedAxes": false,
           "textFormat": "",
           "useAggregationsUi": true,
           "valuesOptions": {},
           "version": 2,
           "xAxis": {
            "labels": {
             "enabled": true
            },
            "type": "-"
           },
           "yAxis": [
            {
             "type": "-"
            },
            {
             "opposite": true,
             "type": "-"
            }
           ]
          }
         }
        ]
       },
       "datasetPreviewNameToCmdIdMap": {},
       "diffDeletes": [],
       "diffInserts": [],
       "displayType": "redashChart",
       "error": null,
       "errorDetails": null,
       "errorSummary": null,
       "errorTraceType": null,
       "finishTime": 0,
       "globalVars": {},
       "guid": "",
       "height": "auto",
       "hideCommandCode": false,
       "hideCommandResult": false,
       "iPythonMetadata": null,
       "inputWidgets": {},
       "isLockedInExamMode": false,
       "latestUser": "a user",
       "latestUserId": null,
       "listResultMetadata": null,
       "metadata": {},
       "nuid": "258b47cc-03f5-45f6-9653-bc55ada2a16f",
       "origId": 0,
       "parentHierarchy": [],
       "pivotAggregation": null,
       "pivotColumns": null,
       "position": 23.5,
       "resultDbfsErrorMessage": null,
       "resultDbfsStatus": "INLINED_IN_TREE",
       "results": null,
       "showCommandTitle": false,
       "startTime": 0,
       "state": "input",
       "streamStates": {},
       "subcommandOptions": {
        "queryPlan": {
         "groups": [
          {
           "column": "year",
           "type": "column"
          }
         ],
         "selects": [
          {
           "column": "year",
           "type": "column"
          },
          {
           "alias": "column_ab592cf780",
           "args": [
            {
             "column": "actual_price",
             "type": "column"
            }
           ],
           "function": "SUM",
           "type": "function"
          },
          {
           "alias": "column_ab592cf783",
           "args": [
            {
             "column": "predicted_price",
             "type": "column"
            }
           ],
           "function": "SUM",
           "type": "function"
          }
         ]
        }
       },
       "submitTime": 0,
       "subtype": "tableResultSubCmd.visualization",
       "tableResultIndex": 0,
       "tableResultSettingsMap": {},
       "useConsistentColors": false,
       "version": "CommandV1",
       "width": "auto",
       "workflows": [],
       "xColumns": null,
       "yColumns": null
      }
     },
     "output_type": "display_data"
    }
   ],
   "source": [
    "#saving the table in gold folder\n",
    "t1=predict_apple_stock(df1)\n",
    "t1.coalesce(1).write.mode('overwrite') \\\n",
    "    .option('header', 'true') \\\n",
    "    .csv(\"dbfs:/user/hive/warehouse/bd_finals.db/stocks/gold/apple_stock_predictions.csv\")"
   ]
  },
  {
   "cell_type": "markdown",
   "metadata": {
    "application/vnd.databricks.v1+cell": {
     "cellMetadata": {},
     "inputWidgets": {},
     "nuid": "7af274fc-5a10-433f-a5f4-92bd8a5ad54b",
     "showTitle": false,
     "tableResultSettingsMap": {},
     "title": ""
    }
   },
   "source": [
    "## return percentage for each company"
   ]
  },
  {
   "cell_type": "markdown",
   "metadata": {
    "application/vnd.databricks.v1+cell": {
     "cellMetadata": {
      "byteLimit": 2048000,
      "rowLimit": 10000
     },
     "inputWidgets": {},
     "nuid": "cf8e21e7-0229-4cfb-bbec-832ce5bf8439",
     "showTitle": false,
     "tableResultSettingsMap": {},
     "title": ""
    }
   },
   "source": [
    "This code calculates the price change and return percentage for each company in the dataset (df1) using a window specification that partitions the data by company and orders it by date and time.\n",
    "\n",
    "Return Percentage: Calculates the percentage change between the last and first prices relative to the first price."
   ]
  },
  {
   "cell_type": "code",
   "execution_count": 0,
   "metadata": {
    "application/vnd.databricks.v1+cell": {
     "cellMetadata": {
      "byteLimit": 2048000,
      "rowLimit": 10000
     },
     "inputWidgets": {},
     "nuid": "e202fec5-5235-4f24-82d1-a38532bd539e",
     "showTitle": false,
     "tableResultSettingsMap": {},
     "title": ""
    }
   },
   "outputs": [
    {
     "output_type": "stream",
     "name": "stdout",
     "output_type": "stream",
     "text": [
      "Stock Performance Analysis (Ordered by Return Percentage):\n"
     ]
    },
    {
     "output_type": "display_data",
     "data": {
      "text/html": [
       "<style scoped>\n",
       "  .table-result-container {\n",
       "    max-height: 300px;\n",
       "    overflow: auto;\n",
       "  }\n",
       "  table, th, td {\n",
       "    border: 1px solid black;\n",
       "    border-collapse: collapse;\n",
       "  }\n",
       "  th, td {\n",
       "    padding: 5px;\n",
       "  }\n",
       "  th {\n",
       "    text-align: left;\n",
       "  }\n",
       "</style><div class='table-result-container'><table class='table-result'><thead style='background-color: white'><tr><th>company</th><th>first_price</th><th>last_price</th><th>price_change</th><th>return_percentage</th></tr></thead><tbody><tr><td>NVDA</td><td>17.212</td><td>142.49</td><td>125.28</td><td>727.85</td></tr><tr><td>META</td><td>115.69</td><td>619.45</td><td>503.76</td><td>435.44</td></tr><tr><td>SHOP</td><td>36.64</td><td>113.665</td><td>77.03</td><td>210.22</td></tr><tr><td>AVGO</td><td>56.279</td><td>171.81</td><td>115.53</td><td>205.28</td></tr><tr><td>NFLX</td><td>314.4</td><td>917.907</td><td>603.51</td><td>191.96</td></tr><tr><td>CRM</td><td>132.99</td><td>354.48</td><td>221.49</td><td>166.55</td></tr><tr><td>AMZN</td><td>87.825</td><td>225.3329</td><td>137.51</td><td>156.57</td></tr><tr><td>UBER</td><td>26.51</td><td>64.6</td><td>38.09</td><td>143.68</td></tr><tr><td>ORCL</td><td>80.311</td><td>177.64</td><td>97.33</td><td>121.19</td></tr><tr><td>TSLA</td><td>156.315</td><td>339.14</td><td>182.83</td><td>116.96</td></tr><tr><td>GOOGL</td><td>91.6983</td><td>184.6</td><td>92.9</td><td>101.31</td></tr><tr><td>AMD</td><td>67.8</td><td>128.6352</td><td>60.84</td><td>89.73</td></tr><tr><td>MSFT</td><td>253.81</td><td>442.73</td><td>188.92</td><td>74.43</td></tr><tr><td>AAPL</td><td>141.75</td><td>247.1</td><td>105.35</td><td>74.32</td></tr><tr><td>INTU</td><td>402.99</td><td>651.165</td><td>248.17</td><td>61.58</td></tr><tr><td>IBM</td><td>144.615</td><td>233.4672</td><td>88.85</td><td>61.44</td></tr><tr><td>ADBE</td><td>342.4401</td><td>549.7134</td><td>207.27</td><td>60.53</td></tr><tr><td>LYFT</td><td>11.61</td><td>16.165</td><td>4.56</td><td>39.23</td></tr><tr><td>SQ</td><td>67.75</td><td>94.11</td><td>26.36</td><td>38.91</td></tr><tr><td>QCOM</td><td>116.6</td><td>161.24</td><td>44.64</td><td>38.28</td></tr><tr><td>SNAP</td><td>9.31</td><td>12.135</td><td>2.82</td><td>30.34</td></tr><tr><td>PYPL</td><td>71.1</td><td>89.16</td><td>18.06</td><td>25.4</td></tr><tr><td>CSCO</td><td>48.14</td><td>58.71</td><td>10.57</td><td>21.96</td></tr><tr><td>TXN</td><td>170.85</td><td>190.93</td><td>20.08</td><td>11.75</td></tr><tr><td>INTC</td><td>27.2208</td><td>20.8899</td><td>-6.33</td><td>-23.26</td></tr></tbody></table></div>"
      ]
     },
     "metadata": {
      "application/vnd.databricks.v1+output": {
       "addedWidgets": {},
       "aggData": [],
       "aggError": "",
       "aggOverflow": false,
       "aggSchema": [],
       "aggSeriesLimitReached": false,
       "aggType": "",
       "arguments": {},
       "columnCustomDisplayInfos": {},
       "data": [
        [
         "NVDA",
         17.212,
         142.49,
         125.28,
         727.85
        ],
        [
         "META",
         115.69,
         619.45,
         503.76,
         435.44
        ],
        [
         "SHOP",
         36.64,
         113.665,
         77.03,
         210.22
        ],
        [
         "AVGO",
         56.279,
         171.81,
         115.53,
         205.28
        ],
        [
         "NFLX",
         314.4,
         917.907,
         603.51,
         191.96
        ],
        [
         "CRM",
         132.99,
         354.48,
         221.49,
         166.55
        ],
        [
         "AMZN",
         87.825,
         225.3329,
         137.51,
         156.57
        ],
        [
         "UBER",
         26.51,
         64.6,
         38.09,
         143.68
        ],
        [
         "ORCL",
         80.311,
         177.64,
         97.33,
         121.19
        ],
        [
         "TSLA",
         156.315,
         339.14,
         182.83,
         116.96
        ],
        [
         "GOOGL",
         91.6983,
         184.6,
         92.9,
         101.31
        ],
        [
         "AMD",
         67.8,
         128.6352,
         60.84,
         89.73
        ],
        [
         "MSFT",
         253.81,
         442.73,
         188.92,
         74.43
        ],
        [
         "AAPL",
         141.75,
         247.1,
         105.35,
         74.32
        ],
        [
         "INTU",
         402.99,
         651.165,
         248.17,
         61.58
        ],
        [
         "IBM",
         144.615,
         233.4672,
         88.85,
         61.44
        ],
        [
         "ADBE",
         342.4401,
         549.7134,
         207.27,
         60.53
        ],
        [
         "LYFT",
         11.61,
         16.165,
         4.56,
         39.23
        ],
        [
         "SQ",
         67.75,
         94.11,
         26.36,
         38.91
        ],
        [
         "QCOM",
         116.6,
         161.24,
         44.64,
         38.28
        ],
        [
         "SNAP",
         9.31,
         12.135,
         2.82,
         30.34
        ],
        [
         "PYPL",
         71.1,
         89.16,
         18.06,
         25.4
        ],
        [
         "CSCO",
         48.14,
         58.71,
         10.57,
         21.96
        ],
        [
         "TXN",
         170.85,
         190.93,
         20.08,
         11.75
        ],
        [
         "INTC",
         27.2208,
         20.8899,
         -6.33,
         -23.26
        ]
       ],
       "datasetInfos": [],
       "dbfsResultPath": null,
       "isJsonSchema": true,
       "metadata": {},
       "overflow": false,
       "plotOptions": {
        "customPlotOptions": {},
        "displayType": "table",
        "pivotAggregation": null,
        "pivotColumns": null,
        "xColumns": null,
        "yColumns": null
       },
       "removedWidgets": [],
       "schema": [
        {
         "metadata": "{}",
         "name": "company",
         "type": "\"string\""
        },
        {
         "metadata": "{}",
         "name": "first_price",
         "type": "\"double\""
        },
        {
         "metadata": "{}",
         "name": "last_price",
         "type": "\"double\""
        },
        {
         "metadata": "{}",
         "name": "price_change",
         "type": "\"double\""
        },
        {
         "metadata": "{}",
         "name": "return_percentage",
         "type": "\"double\""
        }
       ],
       "type": "table"
      }
     },
     "output_type": "display_data"
    },
    {
     "output_type": "display_data",
     "data": {
      "text/plain": [
       "Databricks visualization. Run in Databricks to view."
      ]
     },
     "metadata": {
      "application/vnd.databricks.v1.subcommand+json": {
       "baseErrorDetails": null,
       "bindings": {},
       "collapsed": false,
       "command": "%python\n__backend_agg_display_orig = display\n__backend_agg_dfs = []\ndef __backend_agg_display_new(df):\n    __backend_agg_df_modules = [\"pandas.core.frame\", \"databricks.koalas.frame\", \"pyspark.sql.dataframe\", \"pyspark.pandas.frame\", \"pyspark.sql.connect.dataframe\"]\n    if (type(df).__module__ in __backend_agg_df_modules and type(df).__name__ == 'DataFrame') or isinstance(df, list):\n        __backend_agg_dfs.append(df)\n\ndisplay = __backend_agg_display_new\n\ndef __backend_agg_user_code_fn():\n    import base64\n    exec(base64.standard_b64decode(\"IyBDYWxjdWxhdGUgcHJpY2UgY2hhbmdlIGFuZCByZXR1cm4gcGVyY2VudGFnZSBmb3IgZWFjaCBjb21wYW55CndpbmRvd19zcGVjID0gV2luZG93LnBhcnRpdGlvbkJ5KCdjb21wYW55Jykub3JkZXJCeSgnZGF0ZScsICd0aW1lJykKCnByaWNlX2FuYWx5c2lzID0gZGYxLndpdGhDb2x1bW4oCiAgICAnZmlyc3RfcHJpY2UnLCBmaXJzdCgnY2xvc2VfcHJpY2UnKS5vdmVyKFdpbmRvdy5wYXJ0aXRpb25CeSgnY29tcGFueScpKQopLndpdGhDb2x1bW4oCiAgICAnbGFzdF9wcmljZScsIGxhc3QoJ2Nsb3NlX3ByaWNlJykub3ZlcihXaW5kb3cucGFydGl0aW9uQnkoJ2NvbXBhbnknKSkKKS53aXRoQ29sdW1uKAogICAgJ3ByaWNlX2NoYW5nZScsIHJvdW5kKGNvbCgnbGFzdF9wcmljZScpIC0gY29sKCdmaXJzdF9wcmljZScpLCAyKQopLndpdGhDb2x1bW4oCiAgICAncmV0dXJuX3BlcmNlbnRhZ2UnLCByb3VuZCgoY29sKCdsYXN0X3ByaWNlJykgLSBjb2woJ2ZpcnN0X3ByaWNlJykpIC8gY29sKCdmaXJzdF9wcmljZScpICogMTAwLCAyKQopLnNlbGVjdCgKICAgICdjb21wYW55JywKICAgICdmaXJzdF9wcmljZScsCiAgICAnbGFzdF9wcmljZScsCiAgICAncHJpY2VfY2hhbmdlJywKICAgICdyZXR1cm5fcGVyY2VudGFnZScKKS5kaXN0aW5jdCgpLm9yZGVyQnkoZGVzYygncmV0dXJuX3BlcmNlbnRhZ2UnKSkKCnByaW50KCJTdG9jayBQZXJmb3JtYW5jZSBBbmFseXNpcyAoT3JkZXJlZCBieSBSZXR1cm4gUGVyY2VudGFnZSk6IikKcHJpY2VfYW5hbHlzaXMuZGlzcGxheSgp\").decode())\n\ntry:\n    # run user code\n    __backend_agg_user_code_fn()\n\n    #reset display function\n    display = __backend_agg_display_orig\n\n    if len(__backend_agg_dfs) > 0:\n        # create a temp view\n        if type(__backend_agg_dfs[0]).__module__ == \"databricks.koalas.frame\":\n            # koalas dataframe\n            __backend_agg_dfs[0].to_spark().createOrReplaceTempView(\"DatabricksView0163788\")\n        elif type(__backend_agg_dfs[0]).__module__ == \"pandas.core.frame\" or isinstance(__backend_agg_dfs[0], list):\n            # pandas dataframe\n            spark.createDataFrame(__backend_agg_dfs[0]).createOrReplaceTempView(\"DatabricksView0163788\")\n        else:\n            __backend_agg_dfs[0].createOrReplaceTempView(\"DatabricksView0163788\")\n        #run backend agg\n        display(spark.sql(\"\"\"WITH q AS (select * from DatabricksView0163788) SELECT `company`,SUM(`return_percentage`) `column_ab592cf756`,`company` FROM q GROUP BY `company`\"\"\"))\n    else:\n        displayHTML(\"dataframe no longer exists. If you're using dataframe.display(), use display(dataframe) instead.\")\n\n\nfinally:\n    spark.sql(\"drop view if exists DatabricksView0163788\")\n    display = __backend_agg_display_orig\n    del __backend_agg_display_new\n    del __backend_agg_display_orig\n    del __backend_agg_dfs\n    del __backend_agg_user_code_fn\n\n",
       "commandTitle": "Visualization 1",
       "commandType": "auto",
       "commandVersion": 0,
       "commentThread": [],
       "commentsVisible": false,
       "contentSha256Hex": null,
       "customPlotOptions": {
        "redashChart": [
         {
          "key": "type",
          "value": "CHART"
         },
         {
          "key": "options",
          "value": {
           "alignYAxesAtZero": true,
           "coefficient": 1,
           "columnConfigurationMap": {
            "series": {
             "column": "company",
             "id": "column_ab592cf757"
            },
            "x": {
             "column": "company",
             "id": "column_ab592cf753"
            },
            "y": [
             {
              "column": "return_percentage",
              "id": "column_ab592cf756",
              "transform": "SUM"
             }
            ]
           },
           "dateTimeFormat": "DD/MM/YYYY HH:mm",
           "direction": {
            "type": "counterclockwise"
           },
           "error_y": {
            "type": "data",
            "visible": true
           },
           "globalSeriesType": "column",
           "isAggregationOn": true,
           "legend": {
            "traceorder": "normal"
           },
           "missingValuesAsZero": true,
           "numberFormat": "0,0.[00000]",
           "percentFormat": "0[.]00%",
           "series": {
            "error_y": {
             "type": "data",
             "visible": true
            },
            "stacking": "stack"
           },
           "seriesOptions": {
            "column_ab592cf756": {
             "type": "column",
             "yAxis": 0
            }
           },
           "showDataLabels": false,
           "sizemode": "diameter",
           "sortX": true,
           "sortY": true,
           "swappedAxes": false,
           "textFormat": "",
           "useAggregationsUi": true,
           "valuesOptions": {},
           "version": 2,
           "xAxis": {
            "labels": {
             "enabled": true
            },
            "type": "-"
           },
           "yAxis": [
            {
             "type": "-"
            },
            {
             "opposite": true,
             "type": "-"
            }
           ]
          }
         }
        ]
       },
       "datasetPreviewNameToCmdIdMap": {},
       "diffDeletes": [],
       "diffInserts": [],
       "displayType": "redashChart",
       "error": null,
       "errorDetails": null,
       "errorSummary": null,
       "errorTraceType": null,
       "finishTime": 0,
       "globalVars": {},
       "guid": "",
       "height": "auto",
       "hideCommandCode": false,
       "hideCommandResult": false,
       "iPythonMetadata": null,
       "inputWidgets": {},
       "isLockedInExamMode": false,
       "latestUser": "a user",
       "latestUserId": null,
       "listResultMetadata": null,
       "metadata": {},
       "nuid": "b203fd4b-1e8a-4307-a4d4-14599c0833d4",
       "origId": 0,
       "parentHierarchy": [],
       "pivotAggregation": null,
       "pivotColumns": null,
       "position": 25.0,
       "resultDbfsErrorMessage": null,
       "resultDbfsStatus": "INLINED_IN_TREE",
       "results": null,
       "showCommandTitle": false,
       "startTime": 0,
       "state": "input",
       "streamStates": {},
       "subcommandOptions": {
        "queryPlan": {
         "groups": [
          {
           "column": "company",
           "type": "column"
          },
          {
           "column": "company",
           "type": "column"
          }
         ],
         "selects": [
          {
           "column": "company",
           "type": "column"
          },
          {
           "alias": "column_ab592cf756",
           "args": [
            {
             "column": "return_percentage",
             "type": "column"
            }
           ],
           "function": "SUM",
           "type": "function"
          },
          {
           "column": "company",
           "type": "column"
          }
         ]
        }
       },
       "submitTime": 0,
       "subtype": "tableResultSubCmd.visualization",
       "tableResultIndex": 0,
       "tableResultSettingsMap": {},
       "useConsistentColors": false,
       "version": "CommandV1",
       "width": "auto",
       "workflows": [],
       "xColumns": null,
       "yColumns": null
      }
     },
     "output_type": "display_data"
    }
   ],
   "source": [
    "# Calculating price change and return percentage for each company\n",
    "window_spec = Window.partitionBy(\"company\").orderBy(\"date\", \"time\")\n",
    "price_analysis = (\n",
    "    df1.withColumn(\n",
    "        \"first_price\", first(\"close_price\").over(Window.partitionBy(\"company\"))\n",
    "    )\n",
    "    .withColumn(\"last_price\", last(\"close_price\").over(Window.partitionBy(\"company\")))\n",
    "    .withColumn(\"price_change\", round(col(\"last_price\") - col(\"first_price\"), 2))\n",
    "    .withColumn(\n",
    "        \"return_percentage\",\n",
    "        round((col(\"last_price\") - col(\"first_price\")) / col(\"first_price\") * 100, 2),\n",
    "    )\n",
    "    .select(\"company\", \"first_price\", \"last_price\", \"price_change\", \"return_percentage\")\n",
    "    .distinct()\n",
    "    .orderBy(desc(\"return_percentage\"))\n",
    ")\n",
    "\n",
    "print(\"Stock Performance Analysis (Ordered by Return Percentage):\")\n",
    "price_analysis.display()\n",
    "# Saving as single CSV file in gold folder\n",
    "price_analysis.coalesce(1).write.mode('overwrite') \\\n",
    "    .option('header', 'true') \\\n",
    "    .csv(\"dbfs:/user/hive/warehouse/bd_finals.db/stocks/gold/company_returns.csv\")"
   ]
  },
  {
   "cell_type": "markdown",
   "metadata": {
    "application/vnd.databricks.v1+cell": {
     "cellMetadata": {},
     "inputWidgets": {},
     "nuid": "5388a05e-e355-4065-9ec0-7cbd27dbda87",
     "showTitle": false,
     "tableResultSettingsMap": {},
     "title": ""
    }
   },
   "source": [
    "## Total trading volume by company"
   ]
  },
  {
   "cell_type": "markdown",
   "metadata": {
    "application/vnd.databricks.v1+cell": {
     "cellMetadata": {},
     "inputWidgets": {},
     "nuid": "6165e790-b269-492c-8cfe-a924315c6db0",
     "showTitle": false,
     "tableResultSettingsMap": {},
     "title": ""
    }
   },
   "source": [
    "This code calculates the total trading volume and the average number of trades for each company in the dataset (df1) by grouping on the company column."
   ]
  },
  {
   "cell_type": "code",
   "execution_count": 0,
   "metadata": {
    "application/vnd.databricks.v1+cell": {
     "cellMetadata": {
      "byteLimit": 2048000,
      "rowLimit": 10000
     },
     "inputWidgets": {},
     "nuid": "f9742d76-b964-4378-b36d-2380cc7bcdca",
     "showTitle": false,
     "tableResultSettingsMap": {},
     "title": ""
    }
   },
   "outputs": [
    {
     "output_type": "stream",
     "name": "stdout",
     "output_type": "stream",
     "text": [
      " Trading Volume Summary by Company:\n"
     ]
    },
    {
     "output_type": "display_data",
     "data": {
      "text/html": [
       "<style scoped>\n",
       "  .table-result-container {\n",
       "    max-height: 300px;\n",
       "    overflow: auto;\n",
       "  }\n",
       "  table, th, td {\n",
       "    border: 1px solid black;\n",
       "    border-collapse: collapse;\n",
       "  }\n",
       "  th, td {\n",
       "    padding: 5px;\n",
       "  }\n",
       "  th {\n",
       "    text-align: left;\n",
       "  }\n",
       "</style><div class='table-result-container'><table class='table-result'><thead style='background-color: white'><tr><th>company</th><th>total_volume</th><th>avg_trades</th></tr></thead><tbody><tr><td>NVDA</td><td>1.67883379697E11</td><td>1237.0</td></tr><tr><td>TSLA</td><td>5.0503622297E10</td><td>1394.0</td></tr><tr><td>AMD</td><td>2.7431445897E10</td><td>605.0</td></tr><tr><td>AAPL</td><td>2.4849202233E10</td><td>835.0</td></tr><tr><td>INTC</td><td>2.1392828723E10</td><td>359.0</td></tr><tr><td>AMZN</td><td>1.9326253393E10</td><td>635.0</td></tr><tr><td>GOOGL</td><td>1.2693047954E10</td><td>542.0</td></tr><tr><td>SNAP</td><td>1.1051224812E10</td><td>164.0</td></tr><tr><td>AVGO</td><td>1.0870060105E10</td><td>266.0</td></tr><tr><td>MSFT</td><td>9.813544374E9</td><td>614.0</td></tr><tr><td>UBER</td><td>9.516925221E9</td><td>296.0</td></tr><tr><td>META</td><td>8.852758773E9</td><td>453.0</td></tr><tr><td>LYFT</td><td>7.414771283E9</td><td>148.0</td></tr><tr><td>CSCO</td><td>6.964864214E9</td><td>252.0</td></tr><tr><td>PYPL</td><td>6.292174937E9</td><td>256.0</td></tr><tr><td>SHOP</td><td>5.723414865E9</td><td>195.0</td></tr><tr><td>SQ</td><td>4.846792951E9</td><td>194.0</td></tr><tr><td>ORCL</td><td>3.63643837E9</td><td>219.0</td></tr><tr><td>QCOM</td><td>3.308096133E9</td><td>248.0</td></tr><tr><td>CRM</td><td>2.390869859E9</td><td>217.0</td></tr><tr><td>NFLX</td><td>2.289929771E9</td><td>254.0</td></tr><tr><td>TXN</td><td>1.705921816E9</td><td>185.0</td></tr><tr><td>IBM</td><td>1.691137839E9</td><td>148.0</td></tr><tr><td>ADBE</td><td>1.285918082E9</td><td>178.0</td></tr><tr><td>INTU</td><td>5.65292665E8</td><td>99.0</td></tr></tbody></table></div>"
      ]
     },
     "metadata": {
      "application/vnd.databricks.v1+output": {
       "addedWidgets": {},
       "aggData": [],
       "aggError": "",
       "aggOverflow": false,
       "aggSchema": [],
       "aggSeriesLimitReached": false,
       "aggType": "",
       "arguments": {},
       "columnCustomDisplayInfos": {},
       "data": [
        [
         "NVDA",
         1.67883379697E11,
         1237.0
        ],
        [
         "TSLA",
         5.0503622297E10,
         1394.0
        ],
        [
         "AMD",
         2.7431445897E10,
         605.0
        ],
        [
         "AAPL",
         2.4849202233E10,
         835.0
        ],
        [
         "INTC",
         2.1392828723E10,
         359.0
        ],
        [
         "AMZN",
         1.9326253393E10,
         635.0
        ],
        [
         "GOOGL",
         1.2693047954E10,
         542.0
        ],
        [
         "SNAP",
         1.1051224812E10,
         164.0
        ],
        [
         "AVGO",
         1.0870060105E10,
         266.0
        ],
        [
         "MSFT",
         9.813544374E9,
         614.0
        ],
        [
         "UBER",
         9.516925221E9,
         296.0
        ],
        [
         "META",
         8.852758773E9,
         453.0
        ],
        [
         "LYFT",
         7.414771283E9,
         148.0
        ],
        [
         "CSCO",
         6.964864214E9,
         252.0
        ],
        [
         "PYPL",
         6.292174937E9,
         256.0
        ],
        [
         "SHOP",
         5.723414865E9,
         195.0
        ],
        [
         "SQ",
         4.846792951E9,
         194.0
        ],
        [
         "ORCL",
         3.63643837E9,
         219.0
        ],
        [
         "QCOM",
         3.308096133E9,
         248.0
        ],
        [
         "CRM",
         2.390869859E9,
         217.0
        ],
        [
         "NFLX",
         2.289929771E9,
         254.0
        ],
        [
         "TXN",
         1.705921816E9,
         185.0
        ],
        [
         "IBM",
         1.691137839E9,
         148.0
        ],
        [
         "ADBE",
         1.285918082E9,
         178.0
        ],
        [
         "INTU",
         5.65292665E8,
         99.0
        ]
       ],
       "datasetInfos": [],
       "dbfsResultPath": null,
       "isJsonSchema": true,
       "metadata": {},
       "overflow": false,
       "plotOptions": {
        "customPlotOptions": {},
        "displayType": "table",
        "pivotAggregation": null,
        "pivotColumns": null,
        "xColumns": null,
        "yColumns": null
       },
       "removedWidgets": [],
       "schema": [
        {
         "metadata": "{}",
         "name": "company",
         "type": "\"string\""
        },
        {
         "metadata": "{}",
         "name": "total_volume",
         "type": "\"double\""
        },
        {
         "metadata": "{}",
         "name": "avg_trades",
         "type": "\"double\""
        }
       ],
       "type": "table"
      }
     },
     "output_type": "display_data"
    },
    {
     "output_type": "display_data",
     "data": {
      "text/plain": [
       "Databricks visualization. Run in Databricks to view."
      ]
     },
     "metadata": {
      "application/vnd.databricks.v1.subcommand+json": {
       "baseErrorDetails": null,
       "bindings": {},
       "collapsed": false,
       "command": "%python\n__backend_agg_display_orig = display\n__backend_agg_dfs = []\ndef __backend_agg_display_new(df):\n    __backend_agg_df_modules = [\"pandas.core.frame\", \"databricks.koalas.frame\", \"pyspark.sql.dataframe\", \"pyspark.pandas.frame\", \"pyspark.sql.connect.dataframe\"]\n    if (type(df).__module__ in __backend_agg_df_modules and type(df).__name__ == 'DataFrame') or isinstance(df, list):\n        __backend_agg_dfs.append(df)\n\ndisplay = __backend_agg_display_new\n\ndef __backend_agg_user_code_fn():\n    import base64\n    exec(base64.standard_b64decode(\"IyAyLiBUb3RhbCB0cmFkaW5nIHZvbHVtZSBieSBjb21wYW55CnRvdGFsX3ZvbHVtZSA9IGRmMS5ncm91cEJ5KCdjb21wYW55JykgXAogICAgLmFnZygKICAgICAgICBzdW0oJ3ZvbHVtZScpLmFsaWFzKCd0b3RhbF92b2x1bWUnKSwKICAgICAgICByb3VuZChhdmcoJ251bWJlcl9vZl90cmFkZXMnKSwgMCkuYWxpYXMoJ2F2Z190cmFkZXMnKQogICAgKSBcCiAgICAub3JkZXJCeShkZXNjKCd0b3RhbF92b2x1bWUnKSkKCnByaW50KCIgVHJhZGluZyBWb2x1bWUgU3VtbWFyeSBieSBDb21wYW55OiIpCnRvdGFsX3ZvbHVtZS5kaXNwbGF5KCk=\").decode())\n\ntry:\n    # run user code\n    __backend_agg_user_code_fn()\n\n    #reset display function\n    display = __backend_agg_display_orig\n\n    if len(__backend_agg_dfs) > 0:\n        # create a temp view\n        if type(__backend_agg_dfs[0]).__module__ == \"databricks.koalas.frame\":\n            # koalas dataframe\n            __backend_agg_dfs[0].to_spark().createOrReplaceTempView(\"DatabricksView5ca5065\")\n        elif type(__backend_agg_dfs[0]).__module__ == \"pandas.core.frame\" or isinstance(__backend_agg_dfs[0], list):\n            # pandas dataframe\n            spark.createDataFrame(__backend_agg_dfs[0]).createOrReplaceTempView(\"DatabricksView5ca5065\")\n        else:\n            __backend_agg_dfs[0].createOrReplaceTempView(\"DatabricksView5ca5065\")\n        #run backend agg\n        display(spark.sql(\"\"\"WITH q AS (select * from DatabricksView5ca5065) SELECT `company`,SUM(`total_volume`) `column_ab592cf767` FROM q GROUP BY `company`\"\"\"))\n    else:\n        displayHTML(\"dataframe no longer exists. If you're using dataframe.display(), use display(dataframe) instead.\")\n\n\nfinally:\n    spark.sql(\"drop view if exists DatabricksView5ca5065\")\n    display = __backend_agg_display_orig\n    del __backend_agg_display_new\n    del __backend_agg_display_orig\n    del __backend_agg_dfs\n    del __backend_agg_user_code_fn\n\n",
       "commandTitle": "Visualization 1",
       "commandType": "auto",
       "commandVersion": 0,
       "commentThread": [],
       "commentsVisible": false,
       "contentSha256Hex": null,
       "customPlotOptions": {
        "redashChart": [
         {
          "key": "type",
          "value": "CHART"
         },
         {
          "key": "options",
          "value": {
           "alignYAxesAtZero": true,
           "coefficient": 1,
           "columnConfigurationMap": {
            "x": {
             "column": "company",
             "id": "column_ab592cf771"
            },
            "y": [
             {
              "column": "total_volume",
              "id": "column_ab592cf767",
              "transform": "SUM"
             }
            ]
           },
           "dateTimeFormat": "DD/MM/YYYY HH:mm",
           "direction": {
            "type": "counterclockwise"
           },
           "error_y": {
            "type": "data",
            "visible": true
           },
           "globalSeriesType": "pie",
           "isAggregationOn": true,
           "legend": {
            "traceorder": "normal"
           },
           "missingValuesAsZero": false,
           "numberFormat": "0,0.[00000]",
           "percentFormat": "0[.]00%",
           "series": {
            "error_y": {
             "type": "data",
             "visible": true
            },
            "stacking": null
           },
           "seriesOptions": {
            "column_ab592cf767": {
             "type": "pie",
             "yAxis": 0
            }
           },
           "showDataLabels": true,
           "sizemode": "diameter",
           "sortX": true,
           "sortY": true,
           "swappedAxes": false,
           "textFormat": "",
           "useAggregationsUi": true,
           "valuesOptions": {},
           "version": 2,
           "xAxis": {
            "labels": {
             "enabled": true
            },
            "type": "-"
           },
           "yAxis": [
            {
             "type": "-"
            },
            {
             "opposite": true,
             "type": "-"
            }
           ]
          }
         }
        ]
       },
       "datasetPreviewNameToCmdIdMap": {},
       "diffDeletes": [],
       "diffInserts": [],
       "displayType": "redashChart",
       "error": null,
       "errorDetails": null,
       "errorSummary": null,
       "errorTraceType": null,
       "finishTime": 0,
       "globalVars": {},
       "guid": "",
       "height": "auto",
       "hideCommandCode": false,
       "hideCommandResult": false,
       "iPythonMetadata": null,
       "inputWidgets": {},
       "isLockedInExamMode": false,
       "latestUser": "a user",
       "latestUserId": null,
       "listResultMetadata": null,
       "metadata": {},
       "nuid": "2d596be7-39bc-4991-ad7e-d2bd2c48d86c",
       "origId": 0,
       "parentHierarchy": [],
       "pivotAggregation": null,
       "pivotColumns": null,
       "position": 26.0,
       "resultDbfsErrorMessage": null,
       "resultDbfsStatus": "INLINED_IN_TREE",
       "results": null,
       "showCommandTitle": false,
       "startTime": 0,
       "state": "input",
       "streamStates": {},
       "subcommandOptions": {
        "queryPlan": {
         "groups": [
          {
           "column": "company",
           "type": "column"
          }
         ],
         "selects": [
          {
           "column": "company",
           "type": "column"
          },
          {
           "alias": "column_ab592cf767",
           "args": [
            {
             "column": "total_volume",
             "type": "column"
            }
           ],
           "function": "SUM",
           "type": "function"
          }
         ]
        }
       },
       "submitTime": 0,
       "subtype": "tableResultSubCmd.visualization",
       "tableResultIndex": 0,
       "tableResultSettingsMap": {},
       "useConsistentColors": false,
       "version": "CommandV1",
       "width": "auto",
       "workflows": [],
       "xColumns": null,
       "yColumns": null
      }
     },
     "output_type": "display_data"
    }
   ],
   "source": [
    "total_volume = df1.groupBy('company') \\\n",
    "    .agg(\n",
    "        sum('volume').alias('total_volume'),\n",
    "        round(avg('number_of_trades'), 0).alias('avg_trades')\n",
    "    ) \\\n",
    "    .orderBy(desc('total_volume'))\n",
    "\n",
    "print(\" Trading Volume Summary by Company:\")\n",
    "total_volume.display()\n",
    "# Saving as single CSV file in gold folder\n",
    "price_analysis.coalesce(1).write.mode('overwrite') \\\n",
    "    .option('header', 'true') \\\n",
    "    .csv(\"dbfs:/user/hive/warehouse/bd_finals.db/stocks/gold/total_volume.csv\")"
   ]
  },
  {
   "cell_type": "code",
   "execution_count": 0,
   "metadata": {
    "application/vnd.databricks.v1+cell": {
     "cellMetadata": {},
     "inputWidgets": {},
     "nuid": "09ec3143-970b-4052-915b-81ef8439b758",
     "showTitle": false,
     "tableResultSettingsMap": {},
     "title": ""
    }
   },
   "outputs": [],
   "source": []
  }
 ],
 "metadata": {
  "application/vnd.databricks.v1+notebook": {
   "computePreferences": null,
   "dashboards": [],
   "environmentMetadata": {
    "base_environment": "",
    "client": "1"
   },
   "language": "python",
   "notebookMetadata": {
    "pythonIndentUnit": 4
   },
   "notebookName": "Analysis",
   "widgets": {}
  }
 },
 "nbformat": 4,
 "nbformat_minor": 0
}
