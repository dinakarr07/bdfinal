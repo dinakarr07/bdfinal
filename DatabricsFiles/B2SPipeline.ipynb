{
 "cells": [
  {
   "cell_type": "code",
   "execution_count": 0,
   "metadata": {
    "application/vnd.databricks.v1+cell": {
     "cellMetadata": {
      "byteLimit": 2048000,
      "rowLimit": 10000
     },
     "inputWidgets": {},
     "nuid": "5e702aef-e50b-4e71-9c20-aa6ad1a72c4c",
     "showTitle": false,
     "tableResultSettingsMap": {},
     "title": ""
    }
   },
   "outputs": [
    {
     "output_type": "execute_result",
     "data": {
      "text/plain": [
       "True"
      ]
     },
     "execution_count": 9,
     "metadata": {},
     "output_type": "execute_result"
    }
   ],
   "source": [
    "%py\n",
    "dbutils.fs.rm(\"/user/hive/warehouse/bd_finals.db/\", True)"
   ]
  },
  {
   "cell_type": "markdown",
   "metadata": {
    "application/vnd.databricks.v1+cell": {
     "cellMetadata": {},
     "inputWidgets": {},
     "nuid": "8047f116-f1c9-4d61-8cbd-9222e9c44876",
     "showTitle": false,
     "tableResultSettingsMap": {},
     "title": ""
    }
   },
   "source": [
    "Created a database bd_finals"
   ]
  },
  {
   "cell_type": "code",
   "execution_count": 0,
   "metadata": {
    "application/vnd.databricks.v1+cell": {
     "cellMetadata": {
      "byteLimit": 2048000,
      "implicitDf": true,
      "rowLimit": 10000
     },
     "inputWidgets": {},
     "nuid": "6dd2e0a8-5e9b-4c79-b1ea-ce74d0ebc46b",
     "showTitle": false,
     "tableResultSettingsMap": {},
     "title": ""
    }
   },
   "outputs": [
    {
     "output_type": "display_data",
     "data": {
      "text/html": [
       "<style scoped>\n",
       "  .table-result-container {\n",
       "    max-height: 300px;\n",
       "    overflow: auto;\n",
       "  }\n",
       "  table, th, td {\n",
       "    border: 1px solid black;\n",
       "    border-collapse: collapse;\n",
       "  }\n",
       "  th, td {\n",
       "    padding: 5px;\n",
       "  }\n",
       "  th {\n",
       "    text-align: left;\n",
       "  }\n",
       "</style><div class='table-result-container'><table class='table-result'><thead style='background-color: white'><tr></tr></thead><tbody></tbody></table></div>"
      ]
     },
     "metadata": {
      "application/vnd.databricks.v1+output": {
       "addedWidgets": {},
       "aggData": [],
       "aggError": "",
       "aggOverflow": false,
       "aggSchema": [],
       "aggSeriesLimitReached": false,
       "aggType": "",
       "arguments": {},
       "columnCustomDisplayInfos": {},
       "data": [],
       "datasetInfos": [],
       "dbfsResultPath": null,
       "isJsonSchema": true,
       "metadata": {
        "dataframeName": null
       },
       "overflow": false,
       "plotOptions": {
        "customPlotOptions": {},
        "displayType": "table",
        "pivotAggregation": null,
        "pivotColumns": null,
        "xColumns": null,
        "yColumns": null
       },
       "removedWidgets": [],
       "schema": [],
       "type": "table"
      }
     },
     "output_type": "display_data"
    }
   ],
   "source": [
    "%sql\n",
    "create database if not exists bd_finals;\n",
    "use bd_finals;"
   ]
  },
  {
   "cell_type": "code",
   "execution_count": 0,
   "metadata": {
    "application/vnd.databricks.v1+cell": {
     "cellMetadata": {
      "byteLimit": 2048000,
      "rowLimit": 10000
     },
     "inputWidgets": {},
     "nuid": "31abe4b6-9312-4c51-a4d5-72e62459f957",
     "showTitle": false,
     "tableResultSettingsMap": {},
     "title": ""
    }
   },
   "outputs": [
    {
     "output_type": "execute_result",
     "data": {
      "text/plain": [
       "True"
      ]
     },
     "execution_count": 10,
     "metadata": {},
     "output_type": "execute_result"
    }
   ],
   "source": [
    "dbutils.fs.mkdirs(\"dbfs:/user/hive/warehouse/bd_finals.db/stocks\")"
   ]
  },
  {
   "cell_type": "markdown",
   "metadata": {
    "application/vnd.databricks.v1+cell": {
     "cellMetadata": {},
     "inputWidgets": {},
     "nuid": "5469eb2c-c927-4957-ad75-5b4ad0348e60",
     "showTitle": false,
     "tableResultSettingsMap": {},
     "title": ""
    }
   },
   "source": [
    "copying data to my database, Bronze folder"
   ]
  },
  {
   "cell_type": "code",
   "execution_count": 0,
   "metadata": {
    "application/vnd.databricks.v1+cell": {
     "cellMetadata": {
      "byteLimit": 2048000,
      "rowLimit": 10000
     },
     "inputWidgets": {},
     "nuid": "162cf395-5ddb-48a4-872e-c5f6bc45b68e",
     "showTitle": false,
     "tableResultSettingsMap": {},
     "title": ""
    }
   },
   "outputs": [
    {
     "output_type": "execute_result",
     "data": {
      "text/plain": [
       "True"
      ]
     },
     "execution_count": 11,
     "metadata": {},
     "output_type": "execute_result"
    }
   ],
   "source": [
    "dbutils.fs.cp(\"dbfs:/FileStore/batch_1_data.csv\", \n",
    "              \"dbfs:/user/hive/warehouse/bd_finals.db/stocks/bronze/batch_1_data.csv\")"
   ]
  },
  {
   "cell_type": "markdown",
   "metadata": {
    "application/vnd.databricks.v1+cell": {
     "cellMetadata": {},
     "inputWidgets": {},
     "nuid": "f70bce08-5942-4352-8546-35b927c773be",
     "showTitle": false,
     "tableResultSettingsMap": {},
     "title": ""
    }
   },
   "source": [
    "Reading Data from bronze"
   ]
  },
  {
   "cell_type": "code",
   "execution_count": 0,
   "metadata": {
    "application/vnd.databricks.v1+cell": {
     "cellMetadata": {
      "byteLimit": 2048000,
      "rowLimit": 10000
     },
     "inputWidgets": {},
     "nuid": "bd06f86a-54b8-469d-9e3d-12c75f0316e2",
     "showTitle": false,
     "tableResultSettingsMap": {},
     "title": ""
    }
   },
   "outputs": [],
   "source": [
    "df = spark.read.format(\"csv\") \\\n",
    "    .option(\"header\", \"true\") \\\n",
    "    .option(\"inferSchema\", \"true\") \\\n",
    "    .load(\"dbfs:/user/hive/warehouse/bd_finals.db/stocks/bronze/batch_1_data.csv\")"
   ]
  },
  {
   "cell_type": "code",
   "execution_count": 0,
   "metadata": {
    "application/vnd.databricks.v1+cell": {
     "cellMetadata": {
      "byteLimit": 2048000,
      "rowLimit": 10000
     },
     "inputWidgets": {},
     "nuid": "ae8cb1b7-9d7b-4a71-8908-60bf118bab4b",
     "showTitle": false,
     "tableResultSettingsMap": {},
     "title": ""
    }
   },
   "outputs": [
    {
     "output_type": "display_data",
     "data": {
      "text/html": [
       "<style scoped>\n",
       "  .table-result-container {\n",
       "    max-height: 300px;\n",
       "    overflow: auto;\n",
       "  }\n",
       "  table, th, td {\n",
       "    border: 1px solid black;\n",
       "    border-collapse: collapse;\n",
       "  }\n",
       "  th, td {\n",
       "    padding: 5px;\n",
       "  }\n",
       "  th {\n",
       "    text-align: left;\n",
       "  }\n",
       "</style><div class='table-result-container'><table class='table-result'><thead style='background-color: white'><tr><th>symbol</th><th>t</th><th>o</th><th>h</th><th>l</th><th>c</th><th>v</th><th>n</th></tr></thead><tbody><tr><td>GOOGL</td><td>2022-12-15T09:01:00Z</td><td>93.73</td><td>93.74</td><td>93.55</td><td>93.55</td><td>1519.0</td><td>52</td></tr><tr><td>GOOGL</td><td>2022-12-15T09:02:00Z</td><td>93.49</td><td>93.51</td><td>93.45</td><td>93.45</td><td>992.0</td><td>33</td></tr><tr><td>GOOGL</td><td>2022-12-15T09:03:00Z</td><td>93.45</td><td>93.45</td><td>93.25</td><td>93.31</td><td>2008.0</td><td>43</td></tr><tr><td>GOOGL</td><td>2022-12-15T09:04:00Z</td><td>93.31</td><td>93.5</td><td>93.31</td><td>93.36</td><td>1658.0</td><td>52</td></tr><tr><td>GOOGL</td><td>2022-12-15T09:05:00Z</td><td>93.38</td><td>93.38</td><td>93.34</td><td>93.34</td><td>605.0</td><td>19</td></tr></tbody></table></div>"
      ]
     },
     "metadata": {
      "application/vnd.databricks.v1+output": {
       "addedWidgets": {},
       "aggData": [],
       "aggError": "",
       "aggOverflow": false,
       "aggSchema": [],
       "aggSeriesLimitReached": false,
       "aggType": "",
       "arguments": {},
       "columnCustomDisplayInfos": {},
       "data": [
        [
         "GOOGL",
         "2022-12-15T09:01:00Z",
         93.73,
         93.74,
         93.55,
         93.55,
         1519.0,
         52
        ],
        [
         "GOOGL",
         "2022-12-15T09:02:00Z",
         93.49,
         93.51,
         93.45,
         93.45,
         992.0,
         33
        ],
        [
         "GOOGL",
         "2022-12-15T09:03:00Z",
         93.45,
         93.45,
         93.25,
         93.31,
         2008.0,
         43
        ],
        [
         "GOOGL",
         "2022-12-15T09:04:00Z",
         93.31,
         93.5,
         93.31,
         93.36,
         1658.0,
         52
        ],
        [
         "GOOGL",
         "2022-12-15T09:05:00Z",
         93.38,
         93.38,
         93.34,
         93.34,
         605.0,
         19
        ]
       ],
       "datasetInfos": [],
       "dbfsResultPath": null,
       "isJsonSchema": true,
       "metadata": {},
       "overflow": false,
       "plotOptions": {
        "customPlotOptions": {},
        "displayType": "table",
        "pivotAggregation": null,
        "pivotColumns": null,
        "xColumns": null,
        "yColumns": null
       },
       "removedWidgets": [],
       "schema": [
        {
         "metadata": "{}",
         "name": "symbol",
         "type": "\"string\""
        },
        {
         "metadata": "{}",
         "name": "t",
         "type": "\"timestamp\""
        },
        {
         "metadata": "{}",
         "name": "o",
         "type": "\"double\""
        },
        {
         "metadata": "{}",
         "name": "h",
         "type": "\"double\""
        },
        {
         "metadata": "{}",
         "name": "l",
         "type": "\"double\""
        },
        {
         "metadata": "{}",
         "name": "c",
         "type": "\"double\""
        },
        {
         "metadata": "{}",
         "name": "v",
         "type": "\"double\""
        },
        {
         "metadata": "{}",
         "name": "n",
         "type": "\"integer\""
        }
       ],
       "type": "table"
      }
     },
     "output_type": "display_data"
    }
   ],
   "source": [
    "df.limit(5).display()"
   ]
  },
  {
   "cell_type": "code",
   "execution_count": 0,
   "metadata": {
    "application/vnd.databricks.v1+cell": {
     "cellMetadata": {
      "byteLimit": 2048000,
      "rowLimit": 10000
     },
     "inputWidgets": {},
     "nuid": "2aa7ad55-7d3c-447d-9936-aaadced983f0",
     "showTitle": false,
     "tableResultSettingsMap": {},
     "title": ""
    }
   },
   "outputs": [
    {
     "output_type": "stream",
     "name": "stderr",
     "output_type": "stream",
     "text": [
      "2024-12-19 19:27:34,096 - INFO - Received command c on object id p0\n"
     ]
    },
    {
     "output_type": "stream",
     "name": "stdout",
     "output_type": "stream",
     "text": [
      "root\n |-- symbol: string (nullable = true)\n |-- t: timestamp (nullable = true)\n |-- o: double (nullable = true)\n |-- h: double (nullable = true)\n |-- l: double (nullable = true)\n |-- c: double (nullable = true)\n |-- v: double (nullable = true)\n |-- n: integer (nullable = true)\n\n"
     ]
    }
   ],
   "source": [
    "df.printSchema()"
   ]
  },
  {
   "cell_type": "markdown",
   "metadata": {
    "application/vnd.databricks.v1+cell": {
     "cellMetadata": {},
     "inputWidgets": {},
     "nuid": "5dc5f37a-accb-448b-a453-85230514aab9",
     "showTitle": false,
     "tableResultSettingsMap": {},
     "title": ""
    }
   },
   "source": [
    "**Size of dataset**"
   ]
  },
  {
   "cell_type": "code",
   "execution_count": 0,
   "metadata": {
    "application/vnd.databricks.v1+cell": {
     "cellMetadata": {
      "byteLimit": 2048000,
      "rowLimit": 10000
     },
     "inputWidgets": {},
     "nuid": "dcfd11da-af58-4747-92fe-40def93e83ca",
     "showTitle": false,
     "tableResultSettingsMap": {},
     "title": ""
    }
   },
   "outputs": [
    {
     "output_type": "stream",
     "name": "stderr",
     "output_type": "stream",
     "text": [
      "2024-12-19 19:27:34,195 - INFO - Received command c on object id p0\n"
     ]
    },
    {
     "output_type": "display_data",
     "data": {
      "text/plain": [
       "'shape: 6749358,8'"
      ]
     },
     "metadata": {},
     "output_type": "display_data"
    }
   ],
   "source": [
    "rows=df.count()\n",
    "columns=len(df.columns)\n",
    "display(f\"shape: {rows},{columns}\")"
   ]
  },
  {
   "cell_type": "markdown",
   "metadata": {
    "application/vnd.databricks.v1+cell": {
     "cellMetadata": {},
     "inputWidgets": {},
     "nuid": "7c80908f-17e0-46c7-aacf-eb6d2ec87cfa",
     "showTitle": false,
     "tableResultSettingsMap": {},
     "title": ""
    }
   },
   "source": [
    "**Importing necessary libraries**"
   ]
  },
  {
   "cell_type": "code",
   "execution_count": 0,
   "metadata": {
    "application/vnd.databricks.v1+cell": {
     "cellMetadata": {
      "byteLimit": 2048000,
      "rowLimit": 10000
     },
     "inputWidgets": {},
     "nuid": "4ae5107a-dd38-4534-97bf-425faff68813",
     "showTitle": false,
     "tableResultSettingsMap": {},
     "title": ""
    }
   },
   "outputs": [
    {
     "output_type": "stream",
     "name": "stderr",
     "output_type": "stream",
     "text": [
      "2024-12-19 19:27:40,815 - INFO - Received command c on object id p0\n"
     ]
    }
   ],
   "source": [
    "import logging\n",
    "import time\n",
    "import functools\n",
    "from typing import List\n",
    "from pyspark.sql import DataFrame\n",
    "from pyspark.sql.functions import (\n",
    "    current_timestamp, to_date, date_format, col, \n",
    "    trim, encode, lit, regexp_replace, when\n",
    ")\n",
    "from pyspark.sql.types import StringType, VarcharType\n",
    "from pyspark.ml import Pipeline\n",
    "from pyspark.ml.base import Transformer\n",
    "from pyspark.ml.param.shared import HasInputCols, HasOutputCols\n",
    "from pyspark.ml.util import DefaultParamsReadable, DefaultParamsWritable"
   ]
  },
  {
   "cell_type": "markdown",
   "metadata": {
    "application/vnd.databricks.v1+cell": {
     "cellMetadata": {},
     "inputWidgets": {},
     "nuid": "f33731ff-9c24-40a1-9f0f-3ad05f84fe8f",
     "showTitle": false,
     "tableResultSettingsMap": {},
     "title": ""
    }
   },
   "source": [
    "This block of code sets up basic logging configuration, specifying the logging level as INFO and formatting log messages to include the timestamp, log level, and the log message."
   ]
  },
  {
   "cell_type": "code",
   "execution_count": 0,
   "metadata": {
    "application/vnd.databricks.v1+cell": {
     "cellMetadata": {
      "byteLimit": 2048000,
      "rowLimit": 10000
     },
     "inputWidgets": {},
     "nuid": "05e6a356-f3b1-4223-8c0e-dacb3668dc7a",
     "showTitle": false,
     "tableResultSettingsMap": {},
     "title": ""
    }
   },
   "outputs": [
    {
     "output_type": "stream",
     "name": "stderr",
     "output_type": "stream",
     "text": [
      "2024-12-19 19:27:40,915 - INFO - Received command c on object id p0\n"
     ]
    }
   ],
   "source": [
    "# Basic logging configuration\n",
    "logging.basicConfig(\n",
    "    level=logging.INFO,\n",
    "    format='%(asctime)s - %(levelname)s - %(message)s'\n",
    ")"
   ]
  },
  {
   "cell_type": "code",
   "execution_count": 0,
   "metadata": {
    "application/vnd.databricks.v1+cell": {
     "cellMetadata": {
      "byteLimit": 2048000,
      "rowLimit": 10000
     },
     "inputWidgets": {},
     "nuid": "679cd439-24e8-40ad-9e76-a9d29aeec248",
     "showTitle": false,
     "tableResultSettingsMap": {},
     "title": ""
    }
   },
   "outputs": [
    {
     "output_type": "stream",
     "name": "stderr",
     "output_type": "stream",
     "text": [
      "2024-12-19 19:27:41,017 - INFO - Received command c on object id p0\n"
     ]
    }
   ],
   "source": [
    "def timer_logger(func):\n",
    "    \"\"\"A decorator to log the execution time of a function.\n",
    "    This decorator logs when the execution of the wrapped function starts and finishes,\n",
    "    along with the total time taken for execution. It uses the `logging` module for logging\n",
    "    messages, ensuring consistent and configurable log outputs.\n",
    "    \"\"\"\n",
    "    @functools.wraps(func)\n",
    "    def wrapper(*args, **kwargs):\n",
    "        start_time = time.time()\n",
    "        logging.info(f\"Starting {func.__name__}\")\n",
    "        result = func(*args, **kwargs)\n",
    "        end_time = time.time()\n",
    "        execution_time = end_time - start_time\n",
    "        logging.info(f\"Finished {func.__name__} in {execution_time:.2f} seconds\")\n",
    "        return result\n",
    "    return wrapper"
   ]
  },
  {
   "cell_type": "markdown",
   "metadata": {
    "application/vnd.databricks.v1+cell": {
     "cellMetadata": {
      "byteLimit": 2048000,
      "rowLimit": 10000
     },
     "inputWidgets": {},
     "nuid": "f08a1878-9eb0-42a3-a076-19f00b6ede29",
     "showTitle": false,
     "tableResultSettingsMap": {},
     "title": ""
    }
   },
   "source": [
    "A transformer is a processing stage that transforms input data into output data\n",
    "\n",
    "transform() method is the one which defines how input data is transformed into output data."
   ]
  },
  {
   "cell_type": "code",
   "execution_count": 0,
   "metadata": {
    "application/vnd.databricks.v1+cell": {
     "cellMetadata": {
      "byteLimit": 2048000,
      "rowLimit": 10000
     },
     "inputWidgets": {},
     "nuid": "7cf5bdb7-a949-4bd1-9273-90798a766641",
     "showTitle": false,
     "tableResultSettingsMap": {},
     "title": ""
    }
   },
   "outputs": [
    {
     "output_type": "stream",
     "name": "stderr",
     "output_type": "stream",
     "text": [
      "2024-12-19 23:50:10,574 - INFO - Received command c on object id p0\n"
     ]
    }
   ],
   "source": [
    "class DateTimeSplitTransformer(Transformer, DefaultParamsReadable, DefaultParamsWritable):\n",
    "    \"\"\"Splits timestamp column into date and time columns\"\"\"\n",
    "    \n",
    "    def __init__(self):\n",
    "        super().__init__()\n",
    "        \n",
    "    def _transform(self, df: DataFrame) -> DataFrame:\n",
    "        try:\n",
    "            if 't' not in df.columns:\n",
    "                raise AnalysisException(\"Column 't' not found in DataFrame\")\n",
    "                \n",
    "            return df.withColumn('date', to_date(col('t'))) \\\n",
    "                    .withColumn('time', date_format(col('t'), 'HH:mm:ss')) \\\n",
    "                    .drop('t') \\\n",
    "                    .select('date', 'time', 'symbol', 'o', 'h', 'l', 'c', 'v', 'n')\n",
    "                    \n",
    "        except Exception as e:\n",
    "            logging.error(f\"Error in DateTimeSplitTransformer: {str(e)}\")\n",
    "            raise"
   ]
  },
  {
   "cell_type": "code",
   "execution_count": 0,
   "metadata": {
    "application/vnd.databricks.v1+cell": {
     "cellMetadata": {
      "byteLimit": 2048000,
      "rowLimit": 10000
     },
     "inputWidgets": {},
     "nuid": "5fc396b4-7b56-4ee5-a20c-99183a48637f",
     "showTitle": false,
     "tableResultSettingsMap": {},
     "title": ""
    }
   },
   "outputs": [],
   "source": [
    "class StringTrimmerTransformer(Transformer, DefaultParamsReadable, DefaultParamsWritable):\n",
    "    \"\"\"Trims whitespace from string columns\"\"\"\n",
    "    \n",
    "    def __init__(self):\n",
    "        super().__init__()\n",
    "        \n",
    "    def _transform(self, df: DataFrame) -> DataFrame:\n",
    "        try:\n",
    "            string_columns = [col_name for col_name, dtype in df.dtypes \n",
    "                            if dtype == \"string\"]\n",
    "            \n",
    "            for col_name in string_columns:\n",
    "                df = df.withColumn(col_name, trim(col(col_name)))\n",
    "            return df\n",
    "            \n",
    "        except Exception as e:\n",
    "            logging.error(f\"Error in StringTrimmerTransformer: {str(e)}\")\n",
    "            raise"
   ]
  },
  {
   "cell_type": "code",
   "execution_count": 0,
   "metadata": {
    "application/vnd.databricks.v1+cell": {
     "cellMetadata": {
      "byteLimit": 2048000,
      "rowLimit": 10000
     },
     "inputWidgets": {},
     "nuid": "b85fb39d-07ee-45d4-88f0-f10d181476c6",
     "showTitle": false,
     "tableResultSettingsMap": {},
     "title": ""
    }
   },
   "outputs": [],
   "source": [
    "class ColumnRenameTransformer(Transformer, DefaultParamsReadable, DefaultParamsWritable):\n",
    "    \"\"\"Renames columns according to specified mapping\"\"\"\n",
    "    \n",
    "    def __init__(self):\n",
    "        super().__init__()\n",
    "        \n",
    "    def _transform(self, df: DataFrame) -> DataFrame:\n",
    "        try:\n",
    "            column_mapping = {\n",
    "                'symbol': 'company',\n",
    "                'o': 'open_price',\n",
    "                'h': 'high_price', \n",
    "                'l': 'low_price',\n",
    "                'c': 'close_price',\n",
    "                'v': 'volume',\n",
    "                'n': 'number_of_trades'\n",
    "            }\n",
    "            \n",
    "            missing_cols = [col for col in column_mapping.keys() \n",
    "                          if col not in df.columns]\n",
    "            if missing_cols:\n",
    "                raise AnalysisException(\n",
    "                    f\"Missing required columns: {', '.join(missing_cols)}\"\n",
    "                )\n",
    "                \n",
    "            renamed_df = df\n",
    "            for old_col, new_col in column_mapping.items():\n",
    "                renamed_df = renamed_df.withColumnRenamed(old_col, new_col)\n",
    "                \n",
    "            return renamed_df\n",
    "            \n",
    "        except Exception as e:\n",
    "            logging.error(f\"Error in ColumnRenameTransformer: {str(e)}\")\n",
    "            raise"
   ]
  },
  {
   "cell_type": "code",
   "execution_count": 0,
   "metadata": {
    "application/vnd.databricks.v1+cell": {
     "cellMetadata": {
      "byteLimit": 2048000,
      "rowLimit": 10000
     },
     "inputWidgets": {},
     "nuid": "57a6f58a-e6af-4c4d-a0b9-ed24bb3b450b",
     "showTitle": false,
     "tableResultSettingsMap": {},
     "title": ""
    }
   },
   "outputs": [
    {
     "output_type": "stream",
     "name": "stderr",
     "output_type": "stream",
     "text": [
      "2024-12-19 19:27:41,429 - INFO - Received command c on object id p0\n"
     ]
    }
   ],
   "source": [
    "class AuditColumnTransformer(Transformer, DefaultParamsReadable, DefaultParamsWritable):\n",
    "    \"\"\"Adds audit columns to the DataFrame\"\"\"\n",
    "    \n",
    "    def __init__(self):\n",
    "        super().__init__()\n",
    "        \n",
    "    def _transform(self, df: DataFrame) -> DataFrame:\n",
    "        try:\n",
    "            return df.withColumn(\"ingestion_date\", current_timestamp())\n",
    "        except Exception as e:\n",
    "            logging.error(f\"Error in AuditColumnTransformer: {str(e)}\")\n",
    "            raise"
   ]
  },
  {
   "cell_type": "code",
   "execution_count": 0,
   "metadata": {
    "application/vnd.databricks.v1+cell": {
     "cellMetadata": {
      "byteLimit": 2048000,
      "rowLimit": 10000
     },
     "inputWidgets": {},
     "nuid": "5a52ddae-d5c5-46d0-b06e-ba46dd0a4ec1",
     "showTitle": false,
     "tableResultSettingsMap": {},
     "title": ""
    }
   },
   "outputs": [
    {
     "output_type": "stream",
     "name": "stderr",
     "output_type": "stream",
     "text": [
      "2024-12-19 19:27:41,523 - INFO - Received command c on object id p0\n"
     ]
    }
   ],
   "source": [
    "class EncodingTransformer(Transformer, DefaultParamsReadable, DefaultParamsWritable):\n",
    "    \"\"\"Standardizes text encoding\"\"\"\n",
    "    \n",
    "    def __init__(self, target_encoding: str = \"UTF-8\"):\n",
    "        super().__init__()\n",
    "        self.target_encoding = target_encoding\n",
    "        \n",
    "    def _transform(self, df: DataFrame) -> DataFrame:\n",
    "        try:\n",
    "            string_columns = [\n",
    "                field.name\n",
    "                for field in df.schema.fields\n",
    "                if isinstance(field.dataType, (StringType, VarcharType))\n",
    "            ]\n",
    "            for column_name in string_columns:\n",
    "                df = df.withColumn(\n",
    "                    column_name,\n",
    "                    encode(\n",
    "                        when(col(column_name).isNotNull(), col(column_name))\n",
    "                        .otherwise(lit(\"\")),\n",
    "                        self.target_encoding,\n",
    "                    ).cast(\"string\"),\n",
    "                )   \n",
    "                df = df.withColumn(\n",
    "                    column_name,\n",
    "                    regexp_replace(col(column_name), r\"[\\x00-\\x1F\\x7F-\\xFF]\", \"\"),\n",
    "                )\n",
    "            return df\n",
    "            \n",
    "        except Exception as e:\n",
    "            logging.error(f\"Error in EncodingTransformer: {str(e)}\")\n",
    "            raise"
   ]
  },
  {
   "cell_type": "code",
   "execution_count": 0,
   "metadata": {
    "application/vnd.databricks.v1+cell": {
     "cellMetadata": {
      "byteLimit": 2048000,
      "rowLimit": 10000
     },
     "inputWidgets": {},
     "nuid": "4793fc4d-c55e-476a-bba7-dbb18aa57f67",
     "showTitle": false,
     "tableResultSettingsMap": {},
     "title": ""
    }
   },
   "outputs": [
    {
     "output_type": "stream",
     "name": "stderr",
     "output_type": "stream",
     "text": [
      "2024-12-19 19:27:41,620 - INFO - Received command c on object id p0\n"
     ]
    }
   ],
   "source": [
    "@timer_logger\n",
    "def create_standardization_pipeline() -> Pipeline:\n",
    "    \"\"\"Creates and returns a pipeline for DataFrame standardization\"\"\"\n",
    "    \n",
    "    return Pipeline(stages=[\n",
    "        DateTimeSplitTransformer(),\n",
    "        StringTrimmerTransformer(),\n",
    "        ColumnRenameTransformer(),\n",
    "        AuditColumnTransformer(),\n",
    "        EncodingTransformer()\n",
    "    ])"
   ]
  },
  {
   "cell_type": "code",
   "execution_count": 0,
   "metadata": {
    "application/vnd.databricks.v1+cell": {
     "cellMetadata": {
      "byteLimit": 2048000,
      "rowLimit": 10000
     },
     "inputWidgets": {},
     "nuid": "5bab46a9-8b28-47a8-8762-b2d3628b6f76",
     "showTitle": false,
     "tableResultSettingsMap": {},
     "title": ""
    }
   },
   "outputs": [],
   "source": [
    "@timer_logger\n",
    "def standardize_dataframe(df: DataFrame) -> DataFrame:\n",
    "    \"\"\"\n",
    "    Standardizes the DataFrame using a Pipeline of transformers\n",
    "    \n",
    "    Args:\n",
    "        df (DataFrame): The input DataFrame\n",
    "        \n",
    "    Returns:\n",
    "        DataFrame: The standardized DataFrame\n",
    "    \"\"\"\n",
    "    try:\n",
    "        # Drop duplicates first (not part of pipeline as it's a simple operation)\n",
    "        df = df.dropDuplicates()\n",
    "        \n",
    "        # Create and fit the pipeline\n",
    "        pipeline = create_standardization_pipeline()\n",
    "        standardized_df = pipeline.fit(df).transform(df)\n",
    "        \n",
    "        return standardized_df\n",
    "        \n",
    "    except Exception as e:\n",
    "        logging.error(f\"Error in standardize_dataframe: {str(e)}\")\n",
    "        raise"
   ]
  },
  {
   "cell_type": "code",
   "execution_count": 0,
   "metadata": {
    "application/vnd.databricks.v1+cell": {
     "cellMetadata": {
      "byteLimit": 2048000,
      "rowLimit": 10000
     },
     "inputWidgets": {},
     "nuid": "dca05a75-e86d-42b8-953e-9b814b1bcfcb",
     "showTitle": false,
     "tableResultSettingsMap": {},
     "title": ""
    }
   },
   "outputs": [
    {
     "output_type": "stream",
     "name": "stderr",
     "output_type": "stream",
     "text": [
      "2024-12-19 19:27:41,827 - INFO - Starting standardize_dataframe\n2024-12-19 19:27:41,832 - INFO - Starting create_standardization_pipeline\n2024-12-19 19:27:41,834 - INFO - Finished create_standardization_pipeline in 0.00 seconds\n2024-12-19 19:27:42,358 - INFO - Finished standardize_dataframe in 0.53 seconds\n"
     ]
    }
   ],
   "source": [
    "df_silver = standardize_dataframe(df)"
   ]
  },
  {
   "cell_type": "code",
   "execution_count": 0,
   "metadata": {
    "application/vnd.databricks.v1+cell": {
     "cellMetadata": {
      "byteLimit": 2048000,
      "rowLimit": 10000
     },
     "inputWidgets": {},
     "nuid": "dc771d85-cd58-40d1-af9b-a8ae5145aca3",
     "showTitle": false,
     "tableResultSettingsMap": {},
     "title": ""
    }
   },
   "outputs": [
    {
     "output_type": "display_data",
     "data": {
      "text/html": [
       "<style scoped>\n",
       "  .table-result-container {\n",
       "    max-height: 300px;\n",
       "    overflow: auto;\n",
       "  }\n",
       "  table, th, td {\n",
       "    border: 1px solid black;\n",
       "    border-collapse: collapse;\n",
       "  }\n",
       "  th, td {\n",
       "    padding: 5px;\n",
       "  }\n",
       "  th {\n",
       "    text-align: left;\n",
       "  }\n",
       "</style><div class='table-result-container'><table class='table-result'><thead style='background-color: white'><tr><th>date</th><th>time</th><th>company</th><th>open_price</th><th>high_price</th><th>low_price</th><th>close_price</th><th>volume</th><th>number_of_trades</th><th>ingestion_date</th></tr></thead><tbody><tr><td>2022-12-15</td><td>09:01:00</td><td>GOOGL</td><td>93.73</td><td>93.74</td><td>93.55</td><td>93.55</td><td>1519.0</td><td>52</td><td>2024-12-19T19:27:42.447Z</td></tr><tr><td>2022-12-15</td><td>09:05:00</td><td>GOOGL</td><td>93.38</td><td>93.38</td><td>93.34</td><td>93.34</td><td>605.0</td><td>19</td><td>2024-12-19T19:27:42.447Z</td></tr><tr><td>2022-12-15</td><td>09:04:00</td><td>GOOGL</td><td>93.31</td><td>93.5</td><td>93.31</td><td>93.36</td><td>1658.0</td><td>52</td><td>2024-12-19T19:27:42.447Z</td></tr><tr><td>2022-12-15</td><td>09:03:00</td><td>GOOGL</td><td>93.45</td><td>93.45</td><td>93.25</td><td>93.31</td><td>2008.0</td><td>43</td><td>2024-12-19T19:27:42.447Z</td></tr><tr><td>2022-12-15</td><td>09:02:00</td><td>GOOGL</td><td>93.49</td><td>93.51</td><td>93.45</td><td>93.45</td><td>992.0</td><td>33</td><td>2024-12-19T19:27:42.447Z</td></tr></tbody></table></div>"
      ]
     },
     "metadata": {
      "application/vnd.databricks.v1+output": {
       "addedWidgets": {},
       "aggData": [],
       "aggError": "",
       "aggOverflow": false,
       "aggSchema": [],
       "aggSeriesLimitReached": false,
       "aggType": "",
       "arguments": {},
       "columnCustomDisplayInfos": {},
       "data": [
        [
         "2022-12-15",
         "09:01:00",
         "GOOGL",
         93.73,
         93.74,
         93.55,
         93.55,
         1519.0,
         52,
         "2024-12-19T19:27:42.447Z"
        ],
        [
         "2022-12-15",
         "09:05:00",
         "GOOGL",
         93.38,
         93.38,
         93.34,
         93.34,
         605.0,
         19,
         "2024-12-19T19:27:42.447Z"
        ],
        [
         "2022-12-15",
         "09:04:00",
         "GOOGL",
         93.31,
         93.5,
         93.31,
         93.36,
         1658.0,
         52,
         "2024-12-19T19:27:42.447Z"
        ],
        [
         "2022-12-15",
         "09:03:00",
         "GOOGL",
         93.45,
         93.45,
         93.25,
         93.31,
         2008.0,
         43,
         "2024-12-19T19:27:42.447Z"
        ],
        [
         "2022-12-15",
         "09:02:00",
         "GOOGL",
         93.49,
         93.51,
         93.45,
         93.45,
         992.0,
         33,
         "2024-12-19T19:27:42.447Z"
        ]
       ],
       "datasetInfos": [],
       "dbfsResultPath": null,
       "isJsonSchema": true,
       "metadata": {},
       "overflow": false,
       "plotOptions": {
        "customPlotOptions": {},
        "displayType": "table",
        "pivotAggregation": null,
        "pivotColumns": null,
        "xColumns": null,
        "yColumns": null
       },
       "removedWidgets": [],
       "schema": [
        {
         "metadata": "{}",
         "name": "date",
         "type": "\"date\""
        },
        {
         "metadata": "{}",
         "name": "time",
         "type": "\"string\""
        },
        {
         "metadata": "{}",
         "name": "company",
         "type": "\"string\""
        },
        {
         "metadata": "{}",
         "name": "open_price",
         "type": "\"double\""
        },
        {
         "metadata": "{}",
         "name": "high_price",
         "type": "\"double\""
        },
        {
         "metadata": "{}",
         "name": "low_price",
         "type": "\"double\""
        },
        {
         "metadata": "{}",
         "name": "close_price",
         "type": "\"double\""
        },
        {
         "metadata": "{}",
         "name": "volume",
         "type": "\"double\""
        },
        {
         "metadata": "{}",
         "name": "number_of_trades",
         "type": "\"integer\""
        },
        {
         "metadata": "{}",
         "name": "ingestion_date",
         "type": "\"timestamp\""
        }
       ],
       "type": "table"
      }
     },
     "output_type": "display_data"
    }
   ],
   "source": [
    "df_silver.limit(5).display()"
   ]
  },
  {
   "cell_type": "code",
   "execution_count": 0,
   "metadata": {
    "application/vnd.databricks.v1+cell": {
     "cellMetadata": {
      "byteLimit": 2048000,
      "rowLimit": 10000
     },
     "inputWidgets": {},
     "nuid": "1f07d70a-d812-4939-b016-1c3c5b59ac02",
     "showTitle": false,
     "tableResultSettingsMap": {},
     "title": ""
    }
   },
   "outputs": [
    {
     "output_type": "stream",
     "name": "stderr",
     "output_type": "stream",
     "text": [
      "2024-12-19 19:28:29,816 - INFO - Received command c on object id p0\n"
     ]
    }
   ],
   "source": [
    "# Save the DataFrame as a Delta table in the Silver layer\n",
    "(\n",
    "    df_silver.write\n",
    "    .format(\"delta\")\n",
    "    .option(\"mergeSchema\", \"true\")\n",
    "    .mode(\"overwrite\")\n",
    "    .option(\"path\",f\"dbfs:/user/hive/warehouse/bd_finals.db/stocks/silver/stocks_silver\")\n",
    "    .saveAsTable(\"stocks_silverdelta\")\n",
    ")"
   ]
  },
  {
   "cell_type": "markdown",
   "metadata": {
    "application/vnd.databricks.v1+cell": {
     "cellMetadata": {
      "byteLimit": 2048000,
      "rowLimit": 10000
     },
     "inputWidgets": {},
     "nuid": "e21eb964-2fd7-49b6-a1c8-0d719848c23f",
     "showTitle": false,
     "tableResultSettingsMap": {},
     "title": ""
    }
   },
   "source": [
    "## Loading Silver level Data"
   ]
  },
  {
   "cell_type": "code",
   "execution_count": 0,
   "metadata": {
    "application/vnd.databricks.v1+cell": {
     "cellMetadata": {
      "byteLimit": 2048000,
      "rowLimit": 10000
     },
     "inputWidgets": {},
     "nuid": "dbefcc06-a897-44a2-ac12-d9b66c1de0f1",
     "showTitle": false,
     "tableResultSettingsMap": {},
     "title": ""
    }
   },
   "outputs": [],
   "source": [
    "df1 = (\n",
    "    spark.read.format(\"delta\")\n",
    "    .option(\"header\", True)\n",
    "    .option(\"inferSchema\", True)\n",
    "    .load(\"dbfs:/user/hive/warehouse/bd_finals.db/stocks/silver/stocks_silver\")\n",
    ")"
   ]
  },
  {
   "cell_type": "code",
   "execution_count": 0,
   "metadata": {
    "application/vnd.databricks.v1+cell": {
     "cellMetadata": {
      "byteLimit": 2048000,
      "rowLimit": 10000
     },
     "inputWidgets": {},
     "nuid": "0b972129-ca83-47a8-a126-7259d97d2f77",
     "showTitle": false,
     "tableResultSettingsMap": {},
     "title": ""
    }
   },
   "outputs": [
    {
     "output_type": "stream",
     "name": "stderr",
     "output_type": "stream",
     "text": [
      "2024-12-19 19:31:44,591 - INFO - Received command c on object id p0\n"
     ]
    },
    {
     "output_type": "display_data",
     "data": {
      "text/html": [
       "<style scoped>\n",
       "  .table-result-container {\n",
       "    max-height: 300px;\n",
       "    overflow: auto;\n",
       "  }\n",
       "  table, th, td {\n",
       "    border: 1px solid black;\n",
       "    border-collapse: collapse;\n",
       "  }\n",
       "  th, td {\n",
       "    padding: 5px;\n",
       "  }\n",
       "  th {\n",
       "    text-align: left;\n",
       "  }\n",
       "</style><div class='table-result-container'><table class='table-result'><thead style='background-color: white'><tr><th>date</th><th>time</th><th>company</th><th>open_price</th><th>high_price</th><th>low_price</th><th>close_price</th><th>volume</th><th>number_of_trades</th><th>ingestion_date</th></tr></thead><tbody><tr><td>2022-12-15</td><td>12:02:00</td><td>GOOGL</td><td>93.65</td><td>93.65</td><td>93.6</td><td>93.6</td><td>1221.0</td><td>19</td><td>2024-12-19T19:28:32.342Z</td></tr><tr><td>2022-12-15</td><td>14:16:00</td><td>GOOGL</td><td>93.15</td><td>93.15</td><td>93.04</td><td>93.04</td><td>4155.0</td><td>165</td><td>2024-12-19T19:28:32.342Z</td></tr><tr><td>2022-12-15</td><td>15:34:00</td><td>GOOGL</td><td>91.82</td><td>91.845</td><td>91.72</td><td>91.7388</td><td>87192.0</td><td>962</td><td>2024-12-19T19:28:32.342Z</td></tr><tr><td>2022-12-15</td><td>22:24:00</td><td>GOOGL</td><td>90.64</td><td>90.64</td><td>90.64</td><td>90.64</td><td>771.0</td><td>25</td><td>2024-12-19T19:28:32.342Z</td></tr><tr><td>2022-12-15</td><td>23:02:00</td><td>GOOGL</td><td>90.79</td><td>90.8</td><td>90.79</td><td>90.8</td><td>659.0</td><td>16</td><td>2024-12-19T19:28:32.342Z</td></tr></tbody></table></div>"
      ]
     },
     "metadata": {
      "application/vnd.databricks.v1+output": {
       "addedWidgets": {},
       "aggData": [],
       "aggError": "",
       "aggOverflow": false,
       "aggSchema": [],
       "aggSeriesLimitReached": false,
       "aggType": "",
       "arguments": {},
       "columnCustomDisplayInfos": {},
       "data": [
        [
         "2022-12-15",
         "12:02:00",
         "GOOGL",
         93.65,
         93.65,
         93.6,
         93.6,
         1221.0,
         19,
         "2024-12-19T19:28:32.342Z"
        ],
        [
         "2022-12-15",
         "14:16:00",
         "GOOGL",
         93.15,
         93.15,
         93.04,
         93.04,
         4155.0,
         165,
         "2024-12-19T19:28:32.342Z"
        ],
        [
         "2022-12-15",
         "15:34:00",
         "GOOGL",
         91.82,
         91.845,
         91.72,
         91.7388,
         87192.0,
         962,
         "2024-12-19T19:28:32.342Z"
        ],
        [
         "2022-12-15",
         "22:24:00",
         "GOOGL",
         90.64,
         90.64,
         90.64,
         90.64,
         771.0,
         25,
         "2024-12-19T19:28:32.342Z"
        ],
        [
         "2022-12-15",
         "23:02:00",
         "GOOGL",
         90.79,
         90.8,
         90.79,
         90.8,
         659.0,
         16,
         "2024-12-19T19:28:32.342Z"
        ]
       ],
       "datasetInfos": [],
       "dbfsResultPath": null,
       "isJsonSchema": true,
       "metadata": {},
       "overflow": false,
       "plotOptions": {
        "customPlotOptions": {},
        "displayType": "table",
        "pivotAggregation": null,
        "pivotColumns": null,
        "xColumns": null,
        "yColumns": null
       },
       "removedWidgets": [],
       "schema": [
        {
         "metadata": "{}",
         "name": "date",
         "type": "\"date\""
        },
        {
         "metadata": "{}",
         "name": "time",
         "type": "\"string\""
        },
        {
         "metadata": "{}",
         "name": "company",
         "type": "\"string\""
        },
        {
         "metadata": "{}",
         "name": "open_price",
         "type": "\"double\""
        },
        {
         "metadata": "{}",
         "name": "high_price",
         "type": "\"double\""
        },
        {
         "metadata": "{}",
         "name": "low_price",
         "type": "\"double\""
        },
        {
         "metadata": "{}",
         "name": "close_price",
         "type": "\"double\""
        },
        {
         "metadata": "{}",
         "name": "volume",
         "type": "\"double\""
        },
        {
         "metadata": "{}",
         "name": "number_of_trades",
         "type": "\"integer\""
        },
        {
         "metadata": "{}",
         "name": "ingestion_date",
         "type": "\"timestamp\""
        }
       ],
       "type": "table"
      }
     },
     "output_type": "display_data"
    }
   ],
   "source": [
    "df1.limit(5).display()"
   ]
  },
  {
   "cell_type": "code",
   "execution_count": 0,
   "metadata": {
    "application/vnd.databricks.v1+cell": {
     "cellMetadata": {
      "byteLimit": 2048000,
      "rowLimit": 10000
     },
     "inputWidgets": {},
     "nuid": "cf3e0827-a849-4ef3-b832-585360907e46",
     "showTitle": false,
     "tableResultSettingsMap": {},
     "title": ""
    }
   },
   "outputs": [
    {
     "output_type": "stream",
     "name": "stderr",
     "output_type": "stream",
     "text": [
      "2024-12-19 19:32:15,513 - INFO - Received command c on object id p0\n"
     ]
    },
    {
     "output_type": "display_data",
     "data": {
      "text/plain": [
       "'shape: 6749358,10'"
      ]
     },
     "metadata": {},
     "output_type": "display_data"
    }
   ],
   "source": [
    "rows=df1.count()\n",
    "columns=len(df1.columns)\n",
    "display(f\"shape: {rows},{columns}\")"
   ]
  },
  {
   "cell_type": "code",
   "execution_count": 0,
   "metadata": {
    "application/vnd.databricks.v1+cell": {
     "cellMetadata": {
      "byteLimit": 2048000,
      "rowLimit": 10000
     },
     "inputWidgets": {},
     "nuid": "39a14852-a61e-4f45-97eb-72a20ea41913",
     "showTitle": false,
     "tableResultSettingsMap": {},
     "title": ""
    }
   },
   "outputs": [
    {
     "output_type": "stream",
     "name": "stdout",
     "output_type": "stream",
     "text": [
      "root\n |-- date: date (nullable = true)\n |-- time: string (nullable = true)\n |-- company: string (nullable = true)\n |-- open_price: double (nullable = true)\n |-- high_price: double (nullable = true)\n |-- low_price: double (nullable = true)\n |-- close_price: double (nullable = true)\n |-- volume: double (nullable = true)\n |-- number_of_trades: integer (nullable = true)\n |-- ingestion_date: timestamp (nullable = true)\n\n"
     ]
    }
   ],
   "source": [
    "df1.printSchema()"
   ]
  },
  {
   "cell_type": "code",
   "execution_count": 0,
   "metadata": {
    "application/vnd.databricks.v1+cell": {
     "cellMetadata": {},
     "inputWidgets": {},
     "nuid": "43a7887c-62cf-43c4-bc64-f5ffceee8a7a",
     "showTitle": false,
     "tableResultSettingsMap": {},
     "title": ""
    }
   },
   "outputs": [],
   "source": []
  }
 ],
 "metadata": {
  "application/vnd.databricks.v1+notebook": {
   "computePreferences": null,
   "dashboards": [],
   "environmentMetadata": {
    "base_environment": "",
    "client": "1"
   },
   "language": "python",
   "notebookMetadata": {
    "mostRecentlyExecutedCommandWithImplicitDF": {
     "commandId": 3208598530673498,
     "dataframes": [
      "_sqldf"
     ]
    },
    "pythonIndentUnit": 4
   },
   "notebookName": "B2SPipeline",
   "widgets": {}
  }
 },
 "nbformat": 4,
 "nbformat_minor": 0
}
